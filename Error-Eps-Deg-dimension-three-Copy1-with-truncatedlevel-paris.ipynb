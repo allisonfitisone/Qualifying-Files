{
 "cells": [
  {
   "cell_type": "code",
   "execution_count": 6,
   "metadata": {},
   "outputs": [],
   "source": [
    "load(\"~/ma611-code/solid_angle.sage\")"
   ]
  },
  {
   "cell_type": "code",
   "execution_count": 7,
   "metadata": {},
   "outputs": [],
   "source": [
    "load(\"~/ma611-code/decomp.sage\")"
   ]
  },
  {
   "cell_type": "code",
   "execution_count": 8,
   "metadata": {},
   "outputs": [],
   "source": [
    "def plot_error_3d_wrt_deg_log(A, s, t, eps=1e-2, color=\"red\"):\n",
    "    logging.disable(logging.INFO)\n",
    "    logging.disable(logging.WARNING)\n",
    "    actual_measure=solid_angle_3d(A)\n",
    "    print(\"Solid angle measure is: %s\" % actual_measure)\n",
    "    list=[]\n",
    "    for i in range(s,t+1):\n",
    "        sam_ij=solid_angle_measure(A, deg=10*i, eps=eps)\n",
    "        error_ij=abs(sam_ij-actual_measure)\n",
    "        list_ij=(10*i, error_ij)\n",
    "        print(list_ij)\n",
    "        list.append(list_ij)\n",
    "    return list_plot_semilogy(list, axes_labels=['$deg$', '$error$'], color=color) "
   ]
  },
  {
   "cell_type": "code",
   "execution_count": 9,
   "metadata": {},
   "outputs": [],
   "source": [
    "def plot_error_3d_wrt_criticaldeg_and_criticaleps(A, T, color=\"red\"):\n",
    "    logging.disable(logging.INFO)\n",
    "    logging.disable(logging.WARNING)\n",
    "    actual_measure=solid_angle_3d(A)\n",
    "    print(\"Solid angle measure is: %s\" % actual_measure)\n",
    "    list=[]\n",
    "    for (i,j) in T:\n",
    "        sam_ij=solid_angle_measure(A, deg=j, eps=i)\n",
    "        error_ij=abs(sam_ij-actual_measure)\n",
    "        list_ij=(i, error_ij)\n",
    "        print(j, list_ij)\n",
    "        list.append(list_ij)\n",
    "    return list_plot(list, scale='loglog', axes_labels=['$eps$', '$error-wrt-critical-deg$'], color=color) "
   ]
  },
  {
   "cell_type": "code",
   "execution_count": 10,
   "metadata": {},
   "outputs": [],
   "source": [
    "def line_of_best_fit_for_eps_deg_pairs(T):\n",
    "    logging.disable(logging.INFO)\n",
    "    logging.disable(logging.WARNING)\n",
    "    list=[]\n",
    "    for (i,j) in T:\n",
    "        list_ij=[log(i,10), log(j, 10)]\n",
    "        print(list_ij)\n",
    "        list.append(list_ij)\n",
    "    var('m,b')\n",
    "    model(x)=m*x+b\n",
    "    return(find_fit(list, model))"
   ]
  },
  {
   "cell_type": "code",
   "execution_count": 11,
   "metadata": {},
   "outputs": [],
   "source": [
    "def best_fit_for_eps_deg_pairs(T):\n",
    "    logging.disable(logging.INFO)\n",
    "    logging.disable(logging.WARNING)\n",
    "    list=[]\n",
    "    for (i,j) in T:\n",
    "        list_ij=[log(i,10), j]\n",
    "        print(list_ij)\n",
    "        list.append(list_ij)\n",
    "    var('m,b')\n",
    "    model(x)=m*x+b\n",
    "    return(find_fit(list, model))"
   ]
  },
  {
   "cell_type": "code",
   "execution_count": 12,
   "metadata": {},
   "outputs": [],
   "source": [
    "def best_fit_for_deg_eps_pairs(TR):\n",
    "    logging.disable(logging.INFO)\n",
    "    logging.disable(logging.WARNING)\n",
    "    list=[]\n",
    "    for (i,j) in T:\n",
    "        list_ij=[log(i,10), log(j, 10)]\n",
    "        print(list_ij)\n",
    "        list.append(list_ij)\n",
    "    var('m,b')\n",
    "    model(x)=m*x+b\n",
    "    return(find_fit(list, model))"
   ]
  },
  {
   "cell_type": "code",
   "execution_count": 13,
   "metadata": {},
   "outputs": [],
   "source": [
    "def line_of_best_fit_for_error(A, T):\n",
    "    logging.disable(logging.INFO)\n",
    "    logging.disable(logging.WARNING)\n",
    "    actual_measure=solid_angle_3d(A)\n",
    "    print(\"Solid angle measure is: %s\" % actual_measure)\n",
    "    list=[]\n",
    "    for (i,j) in T:\n",
    "        sam_ij=solid_angle_measure(A, deg=j, eps=i)\n",
    "        error_ij=abs(sam_ij-actual_measure)\n",
    "        list_ij=[log(i,10), log(error_ij, 10)]\n",
    "        print(list_ij)\n",
    "        list.append(list_ij)\n",
    "    var('m,b')\n",
    "    model(x)=m*x+b\n",
    "    return(find_fit(list, model))"
   ]
  },
  {
   "cell_type": "code",
   "execution_count": 45,
   "metadata": {},
   "outputs": [],
   "source": [
    "def line_of_best_fit_deg_delta(L, color=\"pink\"):\n",
    "    list=[]\n",
    "    for (i,j) in L:\n",
    "        list_ij=[log(i,10), j]\n",
    "        print(list_ij)\n",
    "        list.append(list_ij)\n",
    "    var('m,b')\n",
    "    model(x)=m*x+b\n",
    "    print(find_fit(list, model))\n",
    "    return list_plot(list, axes_labels=['$log(error)$', '$truncation-deg$'], color=color) "
   ]
  },
  {
   "cell_type": "code",
   "execution_count": 16,
   "metadata": {},
   "outputs": [],
   "source": [
    "def min_eigenval_assoc_matrix(A):\n",
    "    d = A.nrows()\n",
    "    M_exact = A * A.transpose()  # unnormalized matrix with diag entries not 1\n",
    "    vnorm = [A[i].norm() for i in range(d)]\n",
    "    M = matrix(RDF, d)\n",
    "    for i in range(d):\n",
    "        for j in range(d):\n",
    "            if i != j:\n",
    "                M_exact[i, j] = - abs(M_exact[i, j])\n",
    "            M[i, j] = RDF(M_exact[i, j] / (vnorm[i] * vnorm[j]))\n",
    "    return min(M.eigenvalues())"
   ]
  },
  {
   "cell_type": "markdown",
   "metadata": {},
   "source": [
    "In the following, we start at 1e-2 and lower"
   ]
  },
  {
   "cell_type": "code",
   "execution_count": 53,
   "metadata": {},
   "outputs": [],
   "source": [
    "A = matrix([[1,-1,0],[2,1,1],[-1,0,0]])\n",
    "C = list(generate_cones_decomposition(A)) "
   ]
  },
  {
   "cell_type": "code",
   "execution_count": 14,
   "metadata": {},
   "outputs": [
    {
     "data": {
      "image/png": "[encoded data removed]",
      "text/plain": [
       "Graphics object consisting of 1 graphics primitive"
      ]
     },
     "execution_count": 14,
     "metadata": {},
     "output_type": "execute_result"
    }
   ],
   "source": [
    "#C[0][0] log scale\n",
    "T=[(1e-2,6), (5.5e-3,18), (1e-3,90), (5.5e-4, 121), (1e-4,221), (5.5e-5,258), (1e-5,367), (5.5e-6, 405), (1e-6,518), (5.5e-7, 558),(1e-7,672)]\n",
    "list_plot_semilogx(T, axes_labels=['$eps$', '$deg$'], color=\"green\") "
   ]
  },
  {
   "cell_type": "code",
   "execution_count": 16,
   "metadata": {},
   "outputs": [
    {
     "name": "stdout",
     "output_type": "stream",
     "text": [
      "Solid angle measure is: 0.011865046884419285\n",
      "6 (0.0100000000000000, 0.0044951818710202915)\n",
      "18 (0.00550000000000000, 0.0026556990502708475)\n",
      "90 (0.00100000000000000, 0.0004859691733563685)\n",
      "121 (0.000550000000000000, 0.00027167459203392315)\n",
      "221 (0.000100000000000000, 4.9265049200492364e-05)\n",
      "258 (0.0000550000000000000, 2.708509734283826e-05)\n",
      "367 (0.0000100000000000000, 4.894182917658529e-06)\n",
      "405 (5.50000000000000e-6, 2.7282659510827895e-06)\n",
      "518 (1.00000000000000e-6, 4.91269524109661e-07)\n",
      "558 (5.50000000000000e-7, 2.694688757149538e-07)\n",
      "672 (1.00000000000000e-7, 4.929958527868927e-08)\n"
     ]
    },
    {
     "data": {
      "image/png": "[encoded data removed]",
      "text/plain": [
       "Graphics object consisting of 1 graphics primitive"
      ]
     },
     "execution_count": 16,
     "metadata": {},
     "output_type": "execute_result"
    }
   ],
   "source": [
    "T=[(1e-2,6), (5.5e-3,18), (1e-3,90), (5.5e-4, 121), (1e-4,221), (5.5e-5,258), (1e-5,367), (5.5e-6, 405), (1e-6,518), (5.5e-7, 558),(1e-7,672)]\n",
    "plot_error_3d_wrt_criticaldeg_and_criticaleps(C[0][0], T, color=\"red\")"
   ]
  },
  {
   "cell_type": "code",
   "execution_count": 17,
   "metadata": {
    "scrolled": false
   },
   "outputs": [
    {
     "name": "stdout",
     "output_type": "stream",
     "text": [
      "Solid angle measure is: 0.011865046884419285\n",
      "[-2.00000000000000, -2.347252732410693]\n",
      "[-2.25963731050576, -2.5758211417332646]\n",
      "[-3.00000000000000, -3.3133912786097914]\n",
      "[-3.25963731050576, -3.5659509764346744]\n",
      "[-4.00000000000000, -4.307461079148654]\n",
      "[-4.25963731050576, -4.567269599235665]\n",
      "[-5.00000000000000, -5.310319803140093]\n",
      "[-5.25963731050576, -5.564113296970833]\n",
      "[-6.00000000000000, -6.3086801764748435]\n",
      "[-6.25963731050576, -6.569491389608401]\n",
      "[-7.00000000000000, -7.307156734108862]\n"
     ]
    },
    {
     "data": {
      "text/plain": [
       "[b == -0.33101139216123454, m == 0.9958092907178883]"
      ]
     },
     "execution_count": 17,
     "metadata": {},
     "output_type": "execute_result"
    }
   ],
   "source": [
    "T=[(1e-2,6), (5.5e-3,18), (1e-3,90), (5.5e-4, 121), (1e-4,221), (5.5e-5,258), (1e-5,367), (5.5e-6, 405), (1e-6,518), (5.5e-7, 558),(1e-7,672)]\n",
    "line_of_best_fit_for_error(C[0][0], T)"
   ]
  },
  {
   "cell_type": "code",
   "execution_count": 18,
   "metadata": {},
   "outputs": [
    {
     "data": {
      "text/plain": [
       "0.9860132971832694"
      ]
     },
     "execution_count": 18,
     "metadata": {},
     "output_type": "execute_result"
    }
   ],
   "source": [
    "1-min_eigenval_assoc_matrix(C[0][0])"
   ]
  },
  {
   "cell_type": "code",
   "execution_count": 19,
   "metadata": {},
   "outputs": [
    {
     "data": {
      "text/plain": [
       "0.013986702816730645"
      ]
     },
     "execution_count": 19,
     "metadata": {},
     "output_type": "execute_result"
    }
   ],
   "source": [
    "min_eigenval_assoc_matrix(C[0][0])"
   ]
  },
  {
   "cell_type": "code",
   "execution_count": 19,
   "metadata": {},
   "outputs": [
    {
     "data": {
      "image/png": "[encoded data removed]",
      "text/plain": [
       "Graphics object consisting of 1 graphics primitive"
      ]
     },
     "execution_count": 19,
     "metadata": {},
     "output_type": "execute_result"
    }
   ],
   "source": [
    "#C[1][0] log scale\n",
    "T=[(1e-2,10), (5.5e-3,15), (1e-3,30), (5.5e-4, 36), (1e-4,52), (5.5e-5,58), (1e-5,76), (5.5e-6, 82), (1e-6,99), (5.5e-7, 106),(1e-7,123)]\n",
    "list_plot_semilogx(T, axes_labels=['$eps$', '$deg$'], color=\"green\") "
   ]
  },
  {
   "cell_type": "code",
   "execution_count": 2,
   "metadata": {},
   "outputs": [
    {
     "data": {
      "image/png": "[encoded data removed]",
      "text/plain": [
       "Graphics object consisting of 1 graphics primitive"
      ]
     },
     "execution_count": 2,
     "metadata": {},
     "output_type": "execute_result"
    }
   ],
   "source": [
    "TR=[(10,1e-2), (15,5.5e-3), (30,1e-3), (36,5.5e-4), (52,1e-4), (58,5.5e-5), (76,1e-5), (82,5.5e-6), (99,1e-6), (106,5.5e-7),(123,1e-7)]\n",
    "list_plot_semilogy(TR, axes_labels=['$deg$', '$eps$'], color=\"green\") "
   ]
  },
  {
   "cell_type": "code",
   "execution_count": 20,
   "metadata": {},
   "outputs": [
    {
     "name": "stdout",
     "output_type": "stream",
     "text": [
      "[-2.00000000000000, 1]\n",
      "[-2.25963731050576, log(15)/log(10)]\n",
      "[-3.00000000000000, log(30)/log(10)]\n",
      "[-3.25963731050576, 2*log(6)/log(10)]\n",
      "[-4.00000000000000, log(52)/log(10)]\n",
      "[-4.25963731050576, log(58)/log(10)]\n",
      "[-5.00000000000000, log(76)/log(10)]\n",
      "[-5.25963731050576, log(82)/log(10)]\n",
      "[-6.00000000000000, log(99)/log(10)]\n",
      "[-6.25963731050576, log(106)/log(10)]\n",
      "[-7.00000000000000, log(123)/log(10)]\n"
     ]
    },
    {
     "data": {
      "text/plain": [
       "[b == 0.7942394015924286, m == -0.2041026228342096]"
      ]
     },
     "execution_count": 20,
     "metadata": {},
     "output_type": "execute_result"
    }
   ],
   "source": [
    "T=[(1e-2,10), (5.5e-3,15), (1e-3,30), (5.5e-4, 36), (1e-4,52), (5.5e-5,58), (1e-5,76), (5.5e-6, 82), (1e-6,99), (5.5e-7, 106),(1e-7,123)]\n",
    "line_of_best_fit_for_eps_deg_pairs(T)"
   ]
  },
  {
   "cell_type": "code",
   "execution_count": 21,
   "metadata": {},
   "outputs": [
    {
     "name": "stdout",
     "output_type": "stream",
     "text": [
      "Solid angle measure is: 0.34685501432950744\n",
      "10 (0.0100000000000000, 0.07813628937619288)\n",
      "15 (0.00550000000000000, 0.043794253151027085)\n",
      "30 (0.00100000000000000, 0.00871942793179964)\n",
      "36 (0.000550000000000000, 0.004699177985445058)\n",
      "52 (0.000100000000000000, 0.0009403041523317612)\n",
      "58 (0.0000550000000000000, 0.0005195762094861722)\n",
      "76 (0.0000100000000000000, 8.956641719082281e-05)\n",
      "82 (5.50000000000000e-6, 5.0121201068842325e-05)\n",
      "99 (1.00000000000000e-6, 9.780437363104966e-06)\n",
      "106 (5.50000000000000e-7, 5.0094321594196245e-06)\n",
      "123 (1.00000000000000e-7, 9.936545097288807e-07)\n"
     ]
    },
    {
     "data": {
      "image/png": "[encoded data removed]",
      "text/plain": [
       "Graphics object consisting of 1 graphics primitive"
      ]
     },
     "execution_count": 21,
     "metadata": {},
     "output_type": "execute_result"
    }
   ],
   "source": [
    "T=[(1e-2,10), (5.5e-3,15), (1e-3,30), (5.5e-4, 36), (1e-4,52), (5.5e-5,58), (1e-5,76), (5.5e-6, 82), (1e-6,99), (5.5e-7, 106),(1e-7,123)]\n",
    "plot_error_3d_wrt_criticaldeg_and_criticaleps(C[1][0], T, color=\"red\")"
   ]
  },
  {
   "cell_type": "code",
   "execution_count": 22,
   "metadata": {
    "scrolled": false
   },
   "outputs": [
    {
     "name": "stdout",
     "output_type": "stream",
     "text": [
      "Solid angle measure is: 0.34685501432950744\n",
      "[-2.00000000000000, -1.107147216885328]\n",
      "[-2.25963731050576, -1.3585828755357618]\n",
      "[-3.00000000000000, -2.059512007523005]\n",
      "[-3.25963731050576, -2.3279781053850575]\n",
      "[-4.00000000000000, -3.026731646066533]\n",
      "[-4.25963731050576, -3.2843507427518537]\n",
      "[-5.00000000000000, -4.047854797956757]\n",
      "[-5.25963731050576, -4.299978530428871]\n",
      "[-6.00000000000000, -5.009641723930595]\n",
      "[-6.25963731050576, -5.300211500481513]\n",
      "[-7.00000000000000, -6.002764592061699]\n"
     ]
    },
    {
     "data": {
      "text/plain": [
       "[b == 0.8762442054060324, m == 0.9827168137175772]"
      ]
     },
     "execution_count": 22,
     "metadata": {},
     "output_type": "execute_result"
    }
   ],
   "source": [
    "T=[(1e-2,10), (5.5e-3,15), (1e-3,30), (5.5e-4, 36), (1e-4,52), (5.5e-5,58), (1e-5,76), (5.5e-6, 82), (1e-6,99), (5.5e-7, 106),(1e-7,123)]\n",
    "line_of_best_fit_for_error(C[1][0], T)"
   ]
  },
  {
   "cell_type": "code",
   "execution_count": 23,
   "metadata": {},
   "outputs": [
    {
     "data": {
      "text/plain": [
       "0.9128709291752769"
      ]
     },
     "execution_count": 23,
     "metadata": {},
     "output_type": "execute_result"
    }
   ],
   "source": [
    "1-min_eigenval_assoc_matrix(C[1][0])"
   ]
  },
  {
   "cell_type": "code",
   "execution_count": 20,
   "metadata": {},
   "outputs": [
    {
     "data": {
      "text/plain": [
       "0.0871290708247231"
      ]
     },
     "execution_count": 20,
     "metadata": {},
     "output_type": "execute_result"
    }
   ],
   "source": [
    "min_eigenval_assoc_matrix(C[1][0])"
   ]
  },
  {
   "cell_type": "code",
   "execution_count": null,
   "metadata": {},
   "outputs": [],
   "source": []
  },
  {
   "cell_type": "code",
   "execution_count": 54,
   "metadata": {},
   "outputs": [],
   "source": [
    "Z_1=matrix([[-1,-1,-1],[2,2,1],[2,1,1]])\n",
    "Z=list(generate_cones_decomposition(Z_1))"
   ]
  },
  {
   "cell_type": "code",
   "execution_count": 25,
   "metadata": {},
   "outputs": [
    {
     "data": {
      "image/png": "[encoded data removed]",
      "text/plain": [
       "Graphics object consisting of 1 graphics primitive"
      ]
     },
     "execution_count": 25,
     "metadata": {},
     "output_type": "execute_result"
    }
   ],
   "source": [
    "#Z[0][0] log scale\n",
    "T=[(1e-2,4), (5.5e-3,8), (1e-3,31), (5.5e-4, 41), (1e-4,75), (5.5e-5,87), (1e-5,124), (5.5e-6, 138), (1e-6,177), (5.5e-7, 191),(1e-7,231)]\n",
    "list_plot_semilogx(T, axes_labels=['$eps$', '$deg$'], color=\"green\") "
   ]
  },
  {
   "cell_type": "code",
   "execution_count": 26,
   "metadata": {},
   "outputs": [
    {
     "name": "stdout",
     "output_type": "stream",
     "text": [
      "[-2.00000000000000, 2*log(2)/log(10)]\n",
      "[-2.25963731050576, 3*log(2)/log(10)]\n",
      "[-3.00000000000000, log(31)/log(10)]\n",
      "[-3.25963731050576, log(41)/log(10)]\n",
      "[-4.00000000000000, log(75)/log(10)]\n",
      "[-4.25963731050576, log(87)/log(10)]\n",
      "[-5.00000000000000, log(124)/log(10)]\n",
      "[-5.25963731050576, log(138)/log(10)]\n",
      "[-6.00000000000000, log(177)/log(10)]\n",
      "[-6.25963731050576, log(191)/log(10)]\n",
      "[-7.00000000000000, log(231)/log(10)]\n"
     ]
    },
    {
     "data": {
      "text/plain": [
       "[b == 0.35904992868606705, m == -0.3229985906984636]"
      ]
     },
     "execution_count": 26,
     "metadata": {},
     "output_type": "execute_result"
    }
   ],
   "source": [
    "T=[(1e-2,4), (5.5e-3,8), (1e-3,31), (5.5e-4, 41), (1e-4,75), (5.5e-5,87), (1e-5,124), (5.5e-6, 138), (1e-6,177), (5.5e-7, 191),(1e-7,231)]\n",
    "line_of_best_fit_for_eps_deg_pairs(T)"
   ]
  },
  {
   "cell_type": "code",
   "execution_count": 27,
   "metadata": {},
   "outputs": [
    {
     "name": "stdout",
     "output_type": "stream",
     "text": [
      "Solid angle measure is: 0.1770767061012525\n",
      "4 (0.0100000000000000, 0.09431571072836756)\n",
      "8 (0.00550000000000000, 0.06888698690880107)\n",
      "31 (0.00100000000000000, 0.01742051974887901)\n",
      "41 (0.000550000000000000, 0.010370404249616605)\n",
      "75 (0.000100000000000000, 0.002015784096776718)\n",
      "87 (0.0000550000000000000, 0.001161599426786064)\n",
      "124 (0.0000100000000000000, 0.00022296753038894557)\n",
      "138 (5.50000000000000e-6, 0.00012105859622937865)\n",
      "177 (1.00000000000000e-6, 2.268572203045771e-05)\n",
      "191 (5.50000000000000e-7, 1.2530400169741274e-05)\n",
      "231 (1.00000000000000e-7, 2.336311630268817e-06)\n"
     ]
    },
    {
     "data": {
      "image/png": "[encoded data removed]",
      "text/plain": [
       "Graphics object consisting of 1 graphics primitive"
      ]
     },
     "execution_count": 27,
     "metadata": {},
     "output_type": "execute_result"
    }
   ],
   "source": [
    "T=[(1e-2,4), (5.5e-3,8), (1e-3,31), (5.5e-4, 41), (1e-4,75), (5.5e-5,87), (1e-5,124), (5.5e-6, 138), (1e-6,177), (5.5e-7, 191),(1e-7,231)]\n",
    "plot_error_3d_wrt_criticaldeg_and_criticaleps(Z[0][0], T, color=\"red\")"
   ]
  },
  {
   "cell_type": "code",
   "execution_count": 28,
   "metadata": {
    "scrolled": false
   },
   "outputs": [
    {
     "name": "stdout",
     "output_type": "stream",
     "text": [
      "Solid angle measure is: 0.1770767061012525\n",
      "[-2.00000000000000, -1.0254159582242364]\n",
      "[-2.25963731050576, -1.1618628107116191]\n",
      "[-3.00000000000000, -1.7589388917679185]\n",
      "[-3.25963731050576, -1.9842043140105796]\n",
      "[-4.00000000000000, -2.695555985420838]\n",
      "[-4.25963731050576, -2.934943610955027]\n",
      "[-5.00000000000000, -3.6517583764119994]\n",
      "[-5.25963731050576, -3.9170043663838943]\n",
      "[-6.00000000000000, -4.64424739365812]\n",
      "[-6.25963731050576, -4.90203505919457]\n",
      "[-7.00000000000000, -5.631469229076939]\n"
     ]
    },
    {
     "data": {
      "text/plain": [
       "[b == 0.9930583116430183, m == 0.9364963914358774]"
      ]
     },
     "execution_count": 28,
     "metadata": {},
     "output_type": "execute_result"
    }
   ],
   "source": [
    "T=[(1e-2,4), (5.5e-3,8), (1e-3,31), (5.5e-4, 41), (1e-4,75), (5.5e-5,87), (1e-5,124), (5.5e-6, 138), (1e-6,177), (5.5e-7, 191),(1e-7,231)]\n",
    "line_of_best_fit_for_error(Z[0][0], T)"
   ]
  },
  {
   "cell_type": "code",
   "execution_count": 29,
   "metadata": {},
   "outputs": [
    {
     "data": {
      "text/plain": [
       "0.9663655798208228"
      ]
     },
     "execution_count": 29,
     "metadata": {},
     "output_type": "execute_result"
    }
   ],
   "source": [
    "1-min_eigenval_assoc_matrix(Z[0][0])"
   ]
  },
  {
   "cell_type": "code",
   "execution_count": 23,
   "metadata": {},
   "outputs": [
    {
     "data": {
      "text/plain": [
       "0.03363442017917717"
      ]
     },
     "execution_count": 23,
     "metadata": {},
     "output_type": "execute_result"
    }
   ],
   "source": [
    "min_eigenval_assoc_matrix(Z[0][0])"
   ]
  },
  {
   "cell_type": "code",
   "execution_count": null,
   "metadata": {},
   "outputs": [],
   "source": []
  },
  {
   "cell_type": "code",
   "execution_count": 30,
   "metadata": {},
   "outputs": [
    {
     "data": {
      "image/png": "[encoded data removed]",
      "text/plain": [
       "Graphics object consisting of 1 graphics primitive"
      ]
     },
     "execution_count": 30,
     "metadata": {},
     "output_type": "execute_result"
    }
   ],
   "source": [
    "#Z[1][0] log scale\n",
    "T=[(1e-2,8), (5.5e-3,18), (1e-3,57), (5.5e-4, 72), (1e-4,117), (5.5e-5,134), (1e-5,181), (5.5e-6, 198), (1e-6,247), (5.5e-7, 264),(1e-7,313)]\n",
    "list_plot_semilogx(T, axes_labels=['$eps$', '$deg$'], color=\"green\") "
   ]
  },
  {
   "cell_type": "code",
   "execution_count": 31,
   "metadata": {},
   "outputs": [
    {
     "name": "stdout",
     "output_type": "stream",
     "text": [
      "[-2.00000000000000, 3*log(2)/log(10)]\n",
      "[-2.25963731050576, log(18)/log(10)]\n",
      "[-3.00000000000000, log(57)/log(10)]\n",
      "[-3.25963731050576, log(72)/log(10)]\n",
      "[-4.00000000000000, log(117)/log(10)]\n",
      "[-4.25963731050576, log(134)/log(10)]\n",
      "[-5.00000000000000, log(181)/log(10)]\n",
      "[-5.25963731050576, log(198)/log(10)]\n",
      "[-6.00000000000000, log(247)/log(10)]\n",
      "[-6.25963731050576, log(264)/log(10)]\n",
      "[-7.00000000000000, log(313)/log(10)]\n"
     ]
    },
    {
     "data": {
      "text/plain": [
       "[b == 0.7471941541606907, m == -0.28183074278668435]"
      ]
     },
     "execution_count": 31,
     "metadata": {},
     "output_type": "execute_result"
    }
   ],
   "source": [
    "T=[(1e-2,8), (5.5e-3,18), (1e-3,57), (5.5e-4, 72), (1e-4,117), (5.5e-5,134), (1e-5,181), (5.5e-6, 198), (1e-6,247), (5.5e-7, 264),(1e-7,313)]\n",
    "line_of_best_fit_for_eps_deg_pairs(T)"
   ]
  },
  {
   "cell_type": "code",
   "execution_count": 32,
   "metadata": {},
   "outputs": [
    {
     "name": "stdout",
     "output_type": "stream",
     "text": [
      "Solid angle measure is: 0.3405023579158556\n",
      "8 (0.0100000000000000, 0.19145948561877882)\n",
      "18 (0.00550000000000000, 0.12060036018220377)\n",
      "57 (0.00100000000000000, 0.024980307181661943)\n",
      "72 (0.000550000000000000, 0.014123668156709679)\n",
      "117 (0.000100000000000000, 0.0026901552608099566)\n",
      "134 (0.0000550000000000000, 0.0014577684724815243)\n",
      "181 (0.0000100000000000000, 0.000274751807560758)\n",
      "198 (5.50000000000000e-6, 0.00015128243268058839)\n",
      "247 (1.00000000000000e-6, 2.748915435368815e-05)\n",
      "264 (5.50000000000000e-7, 1.527483162633292e-05)\n",
      "313 (1.00000000000000e-7, 2.8335071196039507e-06)\n"
     ]
    },
    {
     "data": {
      "image/png": "[encoded data removed]",
      "text/plain": [
       "Graphics object consisting of 1 graphics primitive"
      ]
     },
     "execution_count": 32,
     "metadata": {},
     "output_type": "execute_result"
    }
   ],
   "source": [
    "T=[(1e-2,8), (5.5e-3,18), (1e-3,57), (5.5e-4, 72), (1e-4,117), (5.5e-5,134), (1e-5,181), (5.5e-6, 198), (1e-6,247), (5.5e-7, 264),(1e-7,313)]\n",
    "plot_error_3d_wrt_criticaldeg_and_criticaleps(Z[1][0], T, color=\"red\")"
   ]
  },
  {
   "cell_type": "code",
   "execution_count": 33,
   "metadata": {
    "scrolled": false
   },
   "outputs": [
    {
     "name": "stdout",
     "output_type": "stream",
     "text": [
      "Solid angle measure is: 0.3405023579158556\n",
      "[-2.00000000000000, -0.7179231122108226]\n",
      "[-2.25963731050576, -0.9186513951402291]\n",
      "[-3.00000000000000, -1.6024022254302392]\n",
      "[-3.25963731050576, -1.8500524949749055]\n",
      "[-4.00000000000000, -2.5702226542105393]\n",
      "[-4.25963731050576, -2.8363114465997916]\n",
      "[-5.00000000000000, -3.5610594417212846]\n",
      "[-5.25963731050576, -3.820211500482019]\n",
      "[-6.00000000000000, -4.560838620111999]\n",
      "[-6.25963731050576, -4.816023568264297]\n",
      "[-7.00000000000000, -5.547675691792266]\n"
     ]
    },
    {
     "data": {
      "text/plain": [
       "[b == 1.293778704748273, m == 0.9738033921907925]"
      ]
     },
     "execution_count": 33,
     "metadata": {},
     "output_type": "execute_result"
    }
   ],
   "source": [
    "T=[(1e-2,8), (5.5e-3,18), (1e-3,57), (5.5e-4, 72), (1e-4,117), (5.5e-5,134), (1e-5,181), (5.5e-6, 198), (1e-6,247), (5.5e-7, 264),(1e-7,313)]\n",
    "line_of_best_fit_for_error(Z[1][0], T)"
   ]
  },
  {
   "cell_type": "code",
   "execution_count": 34,
   "metadata": {},
   "outputs": [
    {
     "data": {
      "text/plain": [
       "0.9677334015667414"
      ]
     },
     "execution_count": 34,
     "metadata": {},
     "output_type": "execute_result"
    }
   ],
   "source": [
    "1-min_eigenval_assoc_matrix(Z[1][0])"
   ]
  },
  {
   "cell_type": "code",
   "execution_count": null,
   "metadata": {},
   "outputs": [],
   "source": []
  },
  {
   "cell_type": "code",
   "execution_count": 55,
   "metadata": {},
   "outputs": [],
   "source": [
    "B=matrix([[0,1,-2],[1,0,17],[39/34, -1, -1/2]])"
   ]
  },
  {
   "cell_type": "code",
   "execution_count": 36,
   "metadata": {},
   "outputs": [
    {
     "data": {
      "image/png": "[encoded data removed]",
      "text/plain": [
       "Graphics object consisting of 1 graphics primitive"
      ]
     },
     "execution_count": 36,
     "metadata": {},
     "output_type": "execute_result"
    }
   ],
   "source": [
    "#B log scale\n",
    "T=[(1e-2,10), (5.5e-3,16), (1e-3,36), (5.5e-4, 43), (1e-4,65), (5.5e-5,73), (1e-5,95), (5.5e-6, 103), (1e-6,126), (5.5e-7, 134),(1e-7,158)]\n",
    "list_plot_semilogx(T, axes_labels=['$eps$', '$deg$'], color=\"green\") "
   ]
  },
  {
   "cell_type": "code",
   "execution_count": 37,
   "metadata": {},
   "outputs": [
    {
     "name": "stdout",
     "output_type": "stream",
     "text": [
      "[-2.00000000000000, 1]\n",
      "[-2.25963731050576, 4*log(2)/log(10)]\n",
      "[-3.00000000000000, 2*log(6)/log(10)]\n",
      "[-3.25963731050576, log(43)/log(10)]\n",
      "[-4.00000000000000, log(65)/log(10)]\n",
      "[-4.25963731050576, log(73)/log(10)]\n",
      "[-5.00000000000000, log(95)/log(10)]\n",
      "[-5.25963731050576, log(103)/log(10)]\n",
      "[-6.00000000000000, log(126)/log(10)]\n",
      "[-6.25963731050576, log(134)/log(10)]\n",
      "[-7.00000000000000, log(158)/log(10)]\n"
     ]
    },
    {
     "data": {
      "text/plain": [
       "[b == 0.7992374675949845, m == -0.22144119791557348]"
      ]
     },
     "execution_count": 37,
     "metadata": {},
     "output_type": "execute_result"
    }
   ],
   "source": [
    "T=[(1e-2,10), (5.5e-3,16), (1e-3,36), (5.5e-4, 43), (1e-4,65), (5.5e-5,73), (1e-5,95), (5.5e-6, 103), (1e-6,126), (5.5e-7, 134),(1e-7,158)]\n",
    "line_of_best_fit_for_eps_deg_pairs(T)"
   ]
  },
  {
   "cell_type": "code",
   "execution_count": 38,
   "metadata": {},
   "outputs": [
    {
     "name": "stdout",
     "output_type": "stream",
     "text": [
      "Solid angle measure is: 0.3173484614153834\n",
      "10 (0.0100000000000000, 0.09733270598067831)\n",
      "16 (0.00550000000000000, 0.05774637299198643)\n",
      "36 (0.00100000000000000, 0.011326662596282289)\n",
      "43 (0.000550000000000000, 0.006536873164228463)\n",
      "65 (0.000100000000000000, 0.0012051703299607586)\n",
      "73 (0.0000550000000000000, 0.0006581684103082464)\n",
      "95 (0.0000100000000000000, 0.00012705160156306627)\n",
      "103 (5.50000000000000e-6, 7.023239780645785e-05)\n",
      "126 (1.00000000000000e-6, 1.2928123523658908e-05)\n",
      "134 (5.50000000000000e-7, 7.20040125795629e-06)\n",
      "158 (1.00000000000000e-7, 1.2542394773329413e-06)\n"
     ]
    },
    {
     "data": {
      "image/png": "[encoded data removed]",
      "text/plain": [
       "Graphics object consisting of 1 graphics primitive"
      ]
     },
     "execution_count": 38,
     "metadata": {},
     "output_type": "execute_result"
    }
   ],
   "source": [
    "T=[(1e-2,10), (5.5e-3,16), (1e-3,36), (5.5e-4, 43), (1e-4,65), (5.5e-5,73), (1e-5,95), (5.5e-6, 103), (1e-6,126), (5.5e-7, 134),(1e-7,158)]\n",
    "plot_error_3d_wrt_criticaldeg_and_criticaleps(B, T, color=\"red\")"
   ]
  },
  {
   "cell_type": "code",
   "execution_count": 39,
   "metadata": {
    "scrolled": false
   },
   "outputs": [
    {
     "name": "stdout",
     "output_type": "stream",
     "text": [
      "Solid angle measure is: 0.3173484614153834\n",
      "[-2.00000000000000, -1.0117412024836514]\n",
      "[-2.25963731050576, -1.238475288302196]\n",
      "[-3.00000000000000, -1.945898036256011]\n",
      "[-3.25963731050576, -2.184629941622744]\n",
      "[-4.00000000000000, -2.918951568745223]\n",
      "[-4.25963731050576, -3.181662966098231]\n",
      "[-5.00000000000000, -3.896019856031808]\n",
      "[-5.25963731050576, -4.153462504069308]\n",
      "[-6.00000000000000, -4.88846450701912]\n",
      "[-6.25963731050576, -5.142643300893658]\n",
      "[-7.00000000000000, -5.901619533876379]\n"
     ]
    },
    {
     "data": {
      "text/plain": [
       "[b == 0.9819810808912045, m == 0.9786156369231864]"
      ]
     },
     "execution_count": 39,
     "metadata": {},
     "output_type": "execute_result"
    }
   ],
   "source": [
    "T=[(1e-2,10), (5.5e-3,16), (1e-3,36), (5.5e-4, 43), (1e-4,65), (5.5e-5,73), (1e-5,95), (5.5e-6, 103), (1e-6,126), (5.5e-7, 134),(1e-7,158)]\n",
    "line_of_best_fit_for_error(B, T)"
   ]
  },
  {
   "cell_type": "code",
   "execution_count": 40,
   "metadata": {},
   "outputs": [
    {
     "data": {
      "text/plain": [
       "0.932686425933875"
      ]
     },
     "execution_count": 40,
     "metadata": {},
     "output_type": "execute_result"
    }
   ],
   "source": [
    "1-min_eigenval_assoc_matrix(B)"
   ]
  },
  {
   "cell_type": "code",
   "execution_count": 87,
   "metadata": {},
   "outputs": [
    {
     "data": {
      "text/plain": [
       "0.3173484614153834"
      ]
     },
     "execution_count": 87,
     "metadata": {},
     "output_type": "execute_result"
    }
   ],
   "source": [
    "solid_angle_3d(B)"
   ]
  },
  {
   "cell_type": "code",
   "execution_count": 88,
   "metadata": {},
   "outputs": [
    {
     "data": {
      "text/plain": [
       "0.06731357406612504"
      ]
     },
     "execution_count": 88,
     "metadata": {},
     "output_type": "execute_result"
    }
   ],
   "source": [
    "min_eigenval_assoc_matrix(B)"
   ]
  },
  {
   "cell_type": "code",
   "execution_count": null,
   "metadata": {},
   "outputs": [],
   "source": []
  },
  {
   "cell_type": "code",
   "execution_count": 56,
   "metadata": {},
   "outputs": [],
   "source": [
    "F=matrix([[6,1,0],[0,1,-2],[1,1,1]])"
   ]
  },
  {
   "cell_type": "code",
   "execution_count": 42,
   "metadata": {},
   "outputs": [
    {
     "data": {
      "image/png": "[encoded data removed]",
      "text/plain": [
       "Graphics object consisting of 1 graphics primitive"
      ]
     },
     "execution_count": 42,
     "metadata": {},
     "output_type": "execute_result"
    }
   ],
   "source": [
    "#F log scale\n",
    "T=[(1e-2,3), (5.5e-3,4), (1e-3,7), (5.5e-4, 8), (1e-4,12), (5.5e-5,13), (1e-5,17), (5.5e-6, 18), (1e-6,22), (5.5e-7, 23),(1e-7,27)]\n",
    "list_plot_semilogx(T, axes_labels=['$eps$', '$deg$'], color=\"green\") "
   ]
  },
  {
   "cell_type": "code",
   "execution_count": 43,
   "metadata": {},
   "outputs": [
    {
     "name": "stdout",
     "output_type": "stream",
     "text": [
      "[-2.00000000000000, log(3)/log(10)]\n",
      "[-2.25963731050576, 2*log(2)/log(10)]\n",
      "[-3.00000000000000, log(7)/log(10)]\n",
      "[-3.25963731050576, 3*log(2)/log(10)]\n",
      "[-4.00000000000000, log(12)/log(10)]\n",
      "[-4.25963731050576, log(13)/log(10)]\n",
      "[-5.00000000000000, log(17)/log(10)]\n",
      "[-5.25963731050576, log(18)/log(10)]\n",
      "[-6.00000000000000, log(22)/log(10)]\n",
      "[-6.25963731050576, log(23)/log(10)]\n",
      "[-7.00000000000000, 3*log(3)/log(10)]\n"
     ]
    },
    {
     "data": {
      "text/plain": [
       "[b == 0.24994717138903402, m == -0.18411272405874432]"
      ]
     },
     "execution_count": 43,
     "metadata": {},
     "output_type": "execute_result"
    }
   ],
   "source": [
    "T=[(1e-2,3), (5.5e-3,4), (1e-3,7), (5.5e-4, 8), (1e-4,12), (5.5e-5,13), (1e-5,17), (5.5e-6, 18), (1e-6,22), (5.5e-7, 23),(1e-7,27)]\n",
    "line_of_best_fit_for_eps_deg_pairs(T)"
   ]
  },
  {
   "cell_type": "code",
   "execution_count": 44,
   "metadata": {},
   "outputs": [
    {
     "name": "stdout",
     "output_type": "stream",
     "text": [
      "Solid angle measure is: 0.0684833121625528\n",
      "3 (0.0100000000000000, 0.002638294975950556)\n",
      "4 (0.00550000000000000, 0.0014974187477617001)\n",
      "7 (0.00100000000000000, 0.00031843176449347643)\n",
      "8 (0.000550000000000000, 0.00019436173271854262)\n",
      "12 (0.000100000000000000, 2.8850681799127975e-05)\n",
      "13 (0.0000550000000000000, 1.811878809372669e-05)\n",
      "17 (0.0000100000000000000, 2.9062953777331257e-06)\n",
      "18 (5.50000000000000e-6, 1.8504385214529462e-06)\n",
      "22 (1.00000000000000e-6, 3.0957103329398716e-07)\n",
      "23 (5.50000000000000e-7, 1.9872430555289977e-07)\n",
      "27 (1.00000000000000e-7, 3.414326014972158e-08)\n"
     ]
    },
    {
     "data": {
      "image/png": "[encoded data removed]",
      "text/plain": [
       "Graphics object consisting of 1 graphics primitive"
      ]
     },
     "execution_count": 44,
     "metadata": {},
     "output_type": "execute_result"
    }
   ],
   "source": [
    "T=[(1e-2,3), (5.5e-3,4), (1e-3,7), (5.5e-4, 8), (1e-4,12), (5.5e-5,13), (1e-5,17), (5.5e-6, 18), (1e-6,22), (5.5e-7, 23),(1e-7,27)]\n",
    "plot_error_3d_wrt_criticaldeg_and_criticaleps(F, T, color=\"red\")"
   ]
  },
  {
   "cell_type": "code",
   "execution_count": 45,
   "metadata": {
    "scrolled": false
   },
   "outputs": [
    {
     "name": "stdout",
     "output_type": "stream",
     "text": [
      "Solid angle measure is: 0.0684833121625528\n",
      "[-2.00000000000000, -2.578676649553167]\n",
      "[-2.25963731050576, -2.8246567337841215]\n",
      "[-3.00000000000000, -3.4969836166373787]\n",
      "[-3.25963731050576, -3.7113892378928988]\n",
      "[-4.00000000000000, -4.539843919142555]\n",
      "[-4.25963731050576, -4.741870854220394]\n",
      "[-5.00000000000000, -5.536660248812767]\n",
      "[-5.25963731050576, -5.732725339229917]\n",
      "[-6.00000000000000, -6.509239683225332]\n",
      "[-6.25963731050576, -6.701749011994609]\n",
      "[-7.00000000000000, -7.466695012880465]\n"
     ]
    },
    {
     "data": {
      "text/plain": [
       "[b == -0.5772531220300128, m == 0.9832813476802715]"
      ]
     },
     "execution_count": 45,
     "metadata": {},
     "output_type": "execute_result"
    }
   ],
   "source": [
    "T=[(1e-2,3), (5.5e-3,4), (1e-3,7), (5.5e-4, 8), (1e-4,12), (5.5e-5,13), (1e-5,17), (5.5e-6, 18), (1e-6,22), (5.5e-7, 23),(1e-7,27)]\n",
    "line_of_best_fit_for_error(F, T)"
   ]
  },
  {
   "cell_type": "code",
   "execution_count": 46,
   "metadata": {},
   "outputs": [
    {
     "data": {
      "text/plain": [
       "0.7400010849528684"
      ]
     },
     "execution_count": 46,
     "metadata": {},
     "output_type": "execute_result"
    }
   ],
   "source": [
    "1-min_eigenval_assoc_matrix(F)"
   ]
  },
  {
   "cell_type": "code",
   "execution_count": 85,
   "metadata": {},
   "outputs": [
    {
     "data": {
      "text/plain": [
       "0.0684833121625528"
      ]
     },
     "execution_count": 85,
     "metadata": {},
     "output_type": "execute_result"
    }
   ],
   "source": [
    "solid_angle_3d(F)"
   ]
  },
  {
   "cell_type": "code",
   "execution_count": 86,
   "metadata": {},
   "outputs": [
    {
     "data": {
      "text/plain": [
       "0.2599989150471316"
      ]
     },
     "execution_count": 86,
     "metadata": {},
     "output_type": "execute_result"
    }
   ],
   "source": [
    "min_eigenval_assoc_matrix(F)"
   ]
  },
  {
   "cell_type": "code",
   "execution_count": null,
   "metadata": {},
   "outputs": [],
   "source": []
  },
  {
   "cell_type": "code",
   "execution_count": 57,
   "metadata": {},
   "outputs": [],
   "source": [
    "X=matrix([[-1,-2,1],[1,0,2],[0,2,0]])"
   ]
  },
  {
   "cell_type": "code",
   "execution_count": 48,
   "metadata": {},
   "outputs": [
    {
     "data": {
      "image/png": "[encoded data removed]",
      "text/plain": [
       "Graphics object consisting of 1 graphics primitive"
      ]
     },
     "execution_count": 48,
     "metadata": {},
     "output_type": "execute_result"
    }
   ],
   "source": [
    "#X log scale\n",
    "T=[(1e-2,4), (5.5e-3,6), (1e-3, 12), (5.5e-4, 14), (1e-4,21), (5.5e-5,23), (1e-5,31), (5.5e-6, 33), (1e-6,41), (5.5e-7, 44),(1e-7,51)]\n",
    "list_plot_semilogx(T, axes_labels=['$eps$', '$deg$'], color=\"green\") "
   ]
  },
  {
   "cell_type": "code",
   "execution_count": 49,
   "metadata": {},
   "outputs": [
    {
     "name": "stdout",
     "output_type": "stream",
     "text": [
      "[-2.00000000000000, 2*log(2)/log(10)]\n",
      "[-2.25963731050576, log(6)/log(10)]\n",
      "[-3.00000000000000, log(12)/log(10)]\n",
      "[-3.25963731050576, log(14)/log(10)]\n",
      "[-4.00000000000000, log(21)/log(10)]\n",
      "[-4.25963731050576, log(23)/log(10)]\n",
      "[-5.00000000000000, log(31)/log(10)]\n",
      "[-5.25963731050576, log(33)/log(10)]\n",
      "[-6.00000000000000, log(41)/log(10)]\n",
      "[-6.25963731050576, log(44)/log(10)]\n",
      "[-7.00000000000000, log(51)/log(10)]\n"
     ]
    },
    {
     "data": {
      "text/plain": [
       "[b == 0.3821933192011583, m == -0.20826917524948416]"
      ]
     },
     "execution_count": 49,
     "metadata": {},
     "output_type": "execute_result"
    }
   ],
   "source": [
    "T=[(1e-2,4), (5.5e-3,6), (1e-3, 12), (5.5e-4, 14), (1e-4,21), (5.5e-5,23), (1e-5,31), (5.5e-6, 33), (1e-6,41), (5.5e-7, 44),(1e-7,51)]\n",
    "line_of_best_fit_for_eps_deg_pairs(T)"
   ]
  },
  {
   "cell_type": "code",
   "execution_count": 50,
   "metadata": {},
   "outputs": [
    {
     "name": "stdout",
     "output_type": "stream",
     "text": [
      "Solid angle measure is: 0.15622969354691618\n",
      "4 (0.0100000000000000, 0.023115121423523843)\n",
      "6 (0.00550000000000000, 0.01315969518260876)\n",
      "12 (0.00100000000000000, 0.002789260640718938)\n",
      "14 (0.000550000000000000, 0.0017068698815881078)\n",
      "21 (0.000100000000000000, 0.0003234877348721743)\n",
      "23 (0.0000550000000000000, 0.00020341887127145464)\n",
      "31 (0.0000100000000000000, 3.287324817605186e-05)\n",
      "33 (5.50000000000000e-6, 2.0977320623311035e-05)\n",
      "41 (1.00000000000000e-6, 3.544084167528272e-06)\n",
      "44 (5.50000000000000e-7, 1.830888026438382e-06)\n",
      "51 (1.00000000000000e-7, 3.962092341713852e-07)\n"
     ]
    },
    {
     "data": {
      "image/png": "[encoded data removed]",
      "text/plain": [
       "Graphics object consisting of 1 graphics primitive"
      ]
     },
     "execution_count": 50,
     "metadata": {},
     "output_type": "execute_result"
    }
   ],
   "source": [
    "T=[(1e-2,4), (5.5e-3,6), (1e-3, 12), (5.5e-4, 14), (1e-4,21), (5.5e-5,23), (1e-5,31), (5.5e-6, 33), (1e-6,41), (5.5e-7, 44),(1e-7,51)]\n",
    "plot_error_3d_wrt_criticaldeg_and_criticaleps(X, T, color=\"red\")"
   ]
  },
  {
   "cell_type": "code",
   "execution_count": 51,
   "metadata": {
    "scrolled": false
   },
   "outputs": [
    {
     "name": "stdout",
     "output_type": "stream",
     "text": [
      "Solid angle measure is: 0.15622969354691618\n",
      "[-2.00000000000000, -1.6361038208749206]\n",
      "[-2.25963731050576, -1.8807541701479105]\n",
      "[-3.00000000000000, -2.5545109014610494]\n",
      "[-3.25963731050576, -2.76779958483849]\n",
      "[-4.00000000000000, -3.4901421810797144]\n",
      "[-4.25963731050576, -3.6916087598258183]\n",
      "[-5.00000000000000, -4.483157381551475]\n",
      "[-5.25963731050576, -4.6782499838651495]\n",
      "[-6.00000000000000, -5.450495972716411]\n",
      "[-6.25963731050576, -5.737338215494558]\n",
      "[-7.00000000000000, -6.402075406881913]\n"
     ]
    },
    {
     "data": {
      "text/plain": [
       "[b == 0.32557045789708355, m == 0.9597360628499284]"
      ]
     },
     "execution_count": 51,
     "metadata": {},
     "output_type": "execute_result"
    }
   ],
   "source": [
    "T=[(1e-2,4), (5.5e-3,6), (1e-3, 12), (5.5e-4, 14), (1e-4,21), (5.5e-5,23), (1e-5,31), (5.5e-6, 33), (1e-6,41), (5.5e-7, 44),(1e-7,51)]\n",
    "line_of_best_fit_for_error(X, T)"
   ]
  },
  {
   "cell_type": "code",
   "execution_count": 52,
   "metadata": {},
   "outputs": [
    {
     "data": {
      "text/plain": [
       "0.8366600265340756"
      ]
     },
     "execution_count": 52,
     "metadata": {},
     "output_type": "execute_result"
    }
   ],
   "source": [
    "1-min_eigenval_assoc_matrix(X)"
   ]
  },
  {
   "cell_type": "code",
   "execution_count": 83,
   "metadata": {},
   "outputs": [
    {
     "data": {
      "text/plain": [
       "0.15622969354691618"
      ]
     },
     "execution_count": 83,
     "metadata": {},
     "output_type": "execute_result"
    }
   ],
   "source": [
    "solid_angle_3d(X)"
   ]
  },
  {
   "cell_type": "code",
   "execution_count": 84,
   "metadata": {},
   "outputs": [
    {
     "data": {
      "text/plain": [
       "0.16333997346592444"
      ]
     },
     "execution_count": 84,
     "metadata": {},
     "output_type": "execute_result"
    }
   ],
   "source": [
    "min_eigenval_assoc_matrix(X)"
   ]
  },
  {
   "cell_type": "code",
   "execution_count": null,
   "metadata": {},
   "outputs": [],
   "source": []
  },
  {
   "cell_type": "code",
   "execution_count": 58,
   "metadata": {},
   "outputs": [],
   "source": [
    "A=matrix([[13,4,-10],[1,-12,0],[0,-4,-2]])"
   ]
  },
  {
   "cell_type": "code",
   "execution_count": 54,
   "metadata": {},
   "outputs": [
    {
     "data": {
      "image/png": "[encoded data removed]",
      "text/plain": [
       "Graphics object consisting of 1 graphics primitive"
      ]
     },
     "execution_count": 54,
     "metadata": {},
     "output_type": "execute_result"
    }
   ],
   "source": [
    "#A log scale\n",
    "T=[(1e-2,4), (5.5e-3,7), (1e-3,17), (5.5e-4, 21), (1e-4,33), (5.5e-5,37), (1e-5,50), (5.5e-6, 55), (1e-6,68), (5.5e-7, 73),(1e-7,86)]\n",
    "list_plot_semilogx(T, axes_labels=['$eps$', '$deg$'], color=\"green\") "
   ]
  },
  {
   "cell_type": "code",
   "execution_count": 55,
   "metadata": {},
   "outputs": [
    {
     "name": "stdout",
     "output_type": "stream",
     "text": [
      "[-2.00000000000000, 2*log(2)/log(10)]\n",
      "[-2.25963731050576, log(7)/log(10)]\n",
      "[-3.00000000000000, log(17)/log(10)]\n",
      "[-3.25963731050576, log(21)/log(10)]\n",
      "[-4.00000000000000, log(33)/log(10)]\n",
      "[-4.25963731050576, log(37)/log(10)]\n",
      "[-5.00000000000000, log(50)/log(10)]\n",
      "[-5.25963731050576, log(55)/log(10)]\n",
      "[-6.00000000000000, log(68)/log(10)]\n",
      "[-6.25963731050576, log(73)/log(10)]\n",
      "[-7.00000000000000, log(86)/log(10)]\n"
     ]
    },
    {
     "data": {
      "text/plain": [
       "[b == 0.39237994657578956, m == -0.2451443058651694]"
      ]
     },
     "execution_count": 55,
     "metadata": {},
     "output_type": "execute_result"
    }
   ],
   "source": [
    "T=[(1e-2,4), (5.5e-3,7), (1e-3,17), (5.5e-4, 21), (1e-4,33), (5.5e-5,37), (1e-5,50), (5.5e-6, 55), (1e-6,68), (5.5e-7, 73),(1e-7,86)]\n",
    "line_of_best_fit_for_eps_deg_pairs(T)"
   ]
  },
  {
   "cell_type": "code",
   "execution_count": 56,
   "metadata": {},
   "outputs": [
    {
     "name": "stdout",
     "output_type": "stream",
     "text": [
      "Solid angle measure is: 0.03498847667580621\n",
      "4 (0.0100000000000000, 0.004166174108166797)\n",
      "7 (0.00550000000000000, 0.002219917501036013)\n",
      "17 (0.00100000000000000, 0.0004156476991294955)\n",
      "21 (0.000550000000000000, 0.00022879160592614162)\n",
      "33 (0.000100000000000000, 4.231775091434464e-05)\n",
      "37 (0.0000550000000000000, 2.463688987981716e-05)\n",
      "50 (0.0000100000000000000, 4.438128640538164e-06)\n",
      "55 (5.50000000000000e-6, 2.3259320956064977e-06)\n",
      "68 (1.00000000000000e-6, 4.438554036811926e-07)\n",
      "73 (5.50000000000000e-7, 2.3641570155025216e-07)\n",
      "86 (1.00000000000000e-7, 4.661723387866523e-08)\n"
     ]
    },
    {
     "data": {
      "image/png": "[encoded data removed]",
      "text/plain": [
       "Graphics object consisting of 1 graphics primitive"
      ]
     },
     "execution_count": 56,
     "metadata": {},
     "output_type": "execute_result"
    }
   ],
   "source": [
    "T=[(1e-2,4), (5.5e-3,7), (1e-3,17), (5.5e-4, 21), (1e-4,33), (5.5e-5,37), (1e-5,50), (5.5e-6, 55), (1e-6,68), (5.5e-7, 73),(1e-7,86)]\n",
    "plot_error_3d_wrt_criticaldeg_and_criticaleps(A, T, color=\"red\")"
   ]
  },
  {
   "cell_type": "code",
   "execution_count": 57,
   "metadata": {
    "scrolled": false
   },
   "outputs": [
    {
     "name": "stdout",
     "output_type": "stream",
     "text": [
      "Solid angle measure is: 0.03498847667580621\n",
      "[-2.00000000000000, -2.380262584451624]\n",
      "[-2.25963731050576, -2.6536631649685365]\n",
      "[-3.00000000000000, -3.381274619247566]\n",
      "[-3.25963731050576, -3.6405599133004767]\n",
      "[-4.00000000000000, -4.3734774220561725]\n",
      "[-4.25963731050576, -4.608414117663678]\n",
      "[-5.00000000000000, -5.3528001137610195]\n",
      "[-5.25963731050576, -5.633402968426947]\n",
      "[-6.00000000000000, -6.352758488468965]\n",
      "[-6.25963731050576, -6.626323683162264]\n",
      "[-7.00000000000000, -7.33145349973162]\n"
     ]
    },
    {
     "data": {
      "text/plain": [
       "[b == -0.40567493197746973, m == 0.99117523328586]"
      ]
     },
     "execution_count": 57,
     "metadata": {},
     "output_type": "execute_result"
    }
   ],
   "source": [
    "T=[(1e-2,4), (5.5e-3,7), (1e-3,17), (5.5e-4, 21), (1e-4,33), (5.5e-5,37), (1e-5,50), (5.5e-6, 55), (1e-6,68), (5.5e-7, 73),(1e-7,86)]\n",
    "line_of_best_fit_for_error(A, T)"
   ]
  },
  {
   "cell_type": "code",
   "execution_count": 58,
   "metadata": {
    "scrolled": true
   },
   "outputs": [
    {
     "data": {
      "text/plain": [
       "0.9190357808957376"
      ]
     },
     "execution_count": 58,
     "metadata": {},
     "output_type": "execute_result"
    }
   ],
   "source": [
    "1-min_eigenval_assoc_matrix(A)"
   ]
  },
  {
   "cell_type": "code",
   "execution_count": 81,
   "metadata": {},
   "outputs": [
    {
     "data": {
      "text/plain": [
       "0.03498847667580621"
      ]
     },
     "execution_count": 81,
     "metadata": {},
     "output_type": "execute_result"
    }
   ],
   "source": [
    "solid_angle_3d(A)"
   ]
  },
  {
   "cell_type": "code",
   "execution_count": 82,
   "metadata": {},
   "outputs": [
    {
     "data": {
      "text/plain": [
       "0.08096421910426244"
      ]
     },
     "execution_count": 82,
     "metadata": {},
     "output_type": "execute_result"
    }
   ],
   "source": [
    "min_eigenval_assoc_matrix(A)"
   ]
  },
  {
   "cell_type": "code",
   "execution_count": null,
   "metadata": {},
   "outputs": [],
   "source": []
  },
  {
   "cell_type": "code",
   "execution_count": 59,
   "metadata": {},
   "outputs": [],
   "source": [
    "D=matrix([[4,-1,1],[0,0,4],[6,1,0]])"
   ]
  },
  {
   "cell_type": "code",
   "execution_count": 60,
   "metadata": {},
   "outputs": [
    {
     "data": {
      "image/png": "[encoded data removed]",
      "text/plain": [
       "Graphics object consisting of 1 graphics primitive"
      ]
     },
     "execution_count": 60,
     "metadata": {},
     "output_type": "execute_result"
    }
   ],
   "source": [
    "#D log scale\n",
    "T=[(1e-2,9), (5.5e-3,14), (1e-3,32), (5.5e-4, 38), (1e-4,57), (5.5e-5,64), (1e-5,83), (5.5e-6, 90), (1e-6,110), (5.5e-7, 117),(1e-7,137)]\n",
    "list_plot_semilogx(T, axes_labels=['$eps$', '$deg$'], color=\"green\") "
   ]
  },
  {
   "cell_type": "code",
   "execution_count": 61,
   "metadata": {},
   "outputs": [
    {
     "name": "stdout",
     "output_type": "stream",
     "text": [
      "[-2.00000000000000, 2*log(3)/log(10)]\n",
      "[-2.25963731050576, log(14)/log(10)]\n",
      "[-3.00000000000000, 5*log(2)/log(10)]\n",
      "[-3.25963731050576, log(38)/log(10)]\n",
      "[-4.00000000000000, log(57)/log(10)]\n",
      "[-4.25963731050576, 6*log(2)/log(10)]\n",
      "[-5.00000000000000, log(83)/log(10)]\n",
      "[-5.25963731050576, log(90)/log(10)]\n",
      "[-6.00000000000000, log(110)/log(10)]\n",
      "[-6.25963731050576, log(117)/log(10)]\n",
      "[-7.00000000000000, log(137)/log(10)]\n"
     ]
    },
    {
     "data": {
      "text/plain": [
       "[b == 0.752199175415938, m == -0.21932060986650623]"
      ]
     },
     "execution_count": 61,
     "metadata": {},
     "output_type": "execute_result"
    }
   ],
   "source": [
    "T=[(1e-2,9), (5.5e-3,14), (1e-3,32), (5.5e-4, 38), (1e-4,57), (5.5e-5,64), (1e-5,83), (5.5e-6, 90), (1e-6,110), (5.5e-7, 117),(1e-7,137)]\n",
    "line_of_best_fit_for_eps_deg_pairs(T)"
   ]
  },
  {
   "cell_type": "code",
   "execution_count": 62,
   "metadata": {},
   "outputs": [
    {
     "name": "stdout",
     "output_type": "stream",
     "text": [
      "Solid angle measure is: 0.028680838516835755\n",
      "9 (0.0100000000000000, 0.00447198688758162)\n",
      "14 (0.00550000000000000, 0.0025816190600577715)\n",
      "32 (0.00100000000000000, 0.0004453988224279552)\n",
      "38 (0.000550000000000000, 0.0002556513667343642)\n",
      "57 (0.000100000000000000, 4.6032677528007326e-05)\n",
      "64 (0.0000550000000000000, 2.475187435709708e-05)\n",
      "83 (0.0000100000000000000, 4.6865027301459805e-06)\n",
      "90 (5.50000000000000e-6, 2.553024004970511e-06)\n",
      "110 (1.00000000000000e-6, 4.558968091095128e-07)\n",
      "117 (5.50000000000000e-7, 2.503781190016374e-07)\n",
      "137 (1.00000000000000e-7, 4.555811550580047e-08)\n"
     ]
    },
    {
     "data": {
      "image/png": "[encoded data removed]",
      "text/plain": [
       "Graphics object consisting of 1 graphics primitive"
      ]
     },
     "execution_count": 62,
     "metadata": {},
     "output_type": "execute_result"
    }
   ],
   "source": [
    "T=[(1e-2,9), (5.5e-3,14), (1e-3,32), (5.5e-4, 38), (1e-4,57), (5.5e-5,64), (1e-5,83), (5.5e-6, 90), (1e-6,110), (5.5e-7, 117),(1e-7,137)]\n",
    "plot_error_3d_wrt_criticaldeg_and_criticaleps(D, T, color=\"red\")"
   ]
  },
  {
   "cell_type": "code",
   "execution_count": 63,
   "metadata": {
    "scrolled": false
   },
   "outputs": [
    {
     "name": "stdout",
     "output_type": "stream",
     "text": [
      "Solid angle measure is: 0.028680838516835755\n",
      "[-2.00000000000000, -2.349499478524874]\n",
      "[-2.25963731050576, -2.5881078412021687]\n",
      "[-3.00000000000000, -3.3512509355141877]\n",
      "[-3.25963731050576, -3.592351881155296]\n",
      "[-4.00000000000000, -4.336933763280706]\n",
      "[-4.25963731050576, -4.6063919081598135]\n",
      "[-5.00000000000000, -5.329151125637184]\n",
      "[-5.25963731050576, -5.592945101695076]\n",
      "[-6.00000000000000, -6.341133447479942]\n",
      "[-6.25963731050576, -6.601403627586482]\n",
      "[-7.00000000000000, -7.34143424864822]\n"
     ]
    },
    {
     "data": {
      "text/plain": [
       "[b == -0.34070630101474486, m == 0.9996821308022034]"
      ]
     },
     "execution_count": 63,
     "metadata": {},
     "output_type": "execute_result"
    }
   ],
   "source": [
    "T=[(1e-2,9), (5.5e-3,14), (1e-3,32), (5.5e-4, 38), (1e-4,57), (5.5e-5,64), (1e-5,83), (5.5e-6, 90), (1e-6,110), (5.5e-7, 117),(1e-7,137)]\n",
    "line_of_best_fit_for_error(D, T)"
   ]
  },
  {
   "cell_type": "code",
   "execution_count": 64,
   "metadata": {},
   "outputs": [
    {
     "data": {
      "text/plain": [
       "0.9218730117808251"
      ]
     },
     "execution_count": 64,
     "metadata": {},
     "output_type": "execute_result"
    }
   ],
   "source": [
    "1-min_eigenval_assoc_matrix(D)"
   ]
  },
  {
   "cell_type": "code",
   "execution_count": 79,
   "metadata": {},
   "outputs": [
    {
     "data": {
      "text/plain": [
       "0.028680838516835755"
      ]
     },
     "execution_count": 79,
     "metadata": {},
     "output_type": "execute_result"
    }
   ],
   "source": [
    "solid_angle_3d(D)"
   ]
  },
  {
   "cell_type": "code",
   "execution_count": 80,
   "metadata": {},
   "outputs": [
    {
     "data": {
      "text/plain": [
       "0.07812698821917485"
      ]
     },
     "execution_count": 80,
     "metadata": {},
     "output_type": "execute_result"
    }
   ],
   "source": [
    "min_eigenval_assoc_matrix(D)"
   ]
  },
  {
   "cell_type": "code",
   "execution_count": null,
   "metadata": {},
   "outputs": [],
   "source": []
  },
  {
   "cell_type": "code",
   "execution_count": 60,
   "metadata": {},
   "outputs": [
    {
     "data": {
      "text/plain": [
       "[(\n",
       "[ 1  0  0]   \n",
       "[ 1  7  0]   \n",
       "[ 0  6 -1], 1\n",
       "),\n",
       " (\n",
       "[ 1  0  0]   \n",
       "[-1 -1 -1]   \n",
       "[ 0  6 -1], 1\n",
       ")]"
      ]
     },
     "execution_count": 60,
     "metadata": {},
     "output_type": "execute_result"
    }
   ],
   "source": [
    "E_1=matrix([[1,0,0],[1,7,0],[-1,-1,-1]])\n",
    "E=list(generate_cones_decomposition(E_1))\n",
    "E"
   ]
  },
  {
   "cell_type": "code",
   "execution_count": 66,
   "metadata": {},
   "outputs": [
    {
     "data": {
      "image/png": "[encoded data removed]",
      "text/plain": [
       "Graphics object consisting of 1 graphics primitive"
      ]
     },
     "execution_count": 66,
     "metadata": {},
     "output_type": "execute_result"
    }
   ],
   "source": [
    "#E[0][0] log scale\n",
    "T=[(1e-2,4), (5.5e-3,12), (1e-3,87), (5.5e-4, 121), (1e-4,228), (5.5e-5,267), (1e-5,381), (5.5e-6, 422), (1e-6,540), (5.5e-7, 582),(1e-7,702)]\n",
    "list_plot_semilogx(T, axes_labels=['$eps$', '$deg$'], color=\"green\") "
   ]
  },
  {
   "cell_type": "code",
   "execution_count": 67,
   "metadata": {},
   "outputs": [
    {
     "name": "stdout",
     "output_type": "stream",
     "text": [
      "[-2.00000000000000, 2*log(2)/log(10)]\n",
      "[-2.25963731050576, log(12)/log(10)]\n",
      "[-3.00000000000000, log(87)/log(10)]\n",
      "[-3.25963731050576, log(121)/log(10)]\n",
      "[-4.00000000000000, log(228)/log(10)]\n",
      "[-4.25963731050576, log(267)/log(10)]\n",
      "[-5.00000000000000, log(381)/log(10)]\n",
      "[-5.25963731050576, log(422)/log(10)]\n",
      "[-6.00000000000000, log(540)/log(10)]\n",
      "[-6.25963731050576, log(582)/log(10)]\n",
      "[-7.00000000000000, log(702)/log(10)]\n"
     ]
    },
    {
     "data": {
      "text/plain": [
       "[b == 0.4686706139567457, m == -0.3909568415693147]"
      ]
     },
     "execution_count": 67,
     "metadata": {},
     "output_type": "execute_result"
    }
   ],
   "source": [
    "T=[(1e-2,4), (5.5e-3,12), (1e-3,87), (5.5e-4, 121), (1e-4,228), (5.5e-5,267), (1e-5,381), (5.5e-6, 422), (1e-6,540), (5.5e-7, 582),(1e-7,702)]\n",
    "line_of_best_fit_for_eps_deg_pairs(T)"
   ]
  },
  {
   "cell_type": "code",
   "execution_count": 68,
   "metadata": {},
   "outputs": [
    {
     "name": "stdout",
     "output_type": "stream",
     "text": [
      "Solid angle measure is: 0.012206015078361759\n",
      "4 (0.0100000000000000, 0.004258479715959697)\n",
      "12 (0.00550000000000000, 0.0026559749302219084)\n",
      "87 (0.00100000000000000, 0.0004874534303284748)\n",
      "121 (0.000550000000000000, 0.0002716575262333397)\n",
      "228 (0.000100000000000000, 4.921606913225324e-05)\n",
      "267 (0.0000550000000000000, 2.7103215819080165e-05)\n",
      "381 (0.0000100000000000000, 4.948740620782863e-06)\n",
      "422 (5.50000000000000e-6, 2.714956395984125e-06)\n",
      "540 (1.00000000000000e-6, 4.931724021418893e-07)\n",
      "582 (5.50000000000000e-7, 2.7040226520738675e-07)\n",
      "702 (1.00000000000000e-7, 4.9200179980460335e-08)\n"
     ]
    },
    {
     "data": {
      "image/png": "[encoded data removed]",
      "text/plain": [
       "Graphics object consisting of 1 graphics primitive"
      ]
     },
     "execution_count": 68,
     "metadata": {},
     "output_type": "execute_result"
    }
   ],
   "source": [
    "T=[(1e-2,4), (5.5e-3,12), (1e-3,87), (5.5e-4, 121), (1e-4,228), (5.5e-5,267), (1e-5,381), (5.5e-6, 422), (1e-6,540), (5.5e-7, 582),(1e-7,702)]\n",
    "plot_error_3d_wrt_criticaldeg_and_criticaleps(E[0][0], T, color=\"red\")"
   ]
  },
  {
   "cell_type": "code",
   "execution_count": 69,
   "metadata": {
    "scrolled": false
   },
   "outputs": [
    {
     "name": "stdout",
     "output_type": "stream",
     "text": [
      "Solid angle measure is: 0.012206015078361759\n",
      "[-2.00000000000000, -2.3707454170500815]\n",
      "[-2.25963731050576, -2.5757760285953117]\n",
      "[-3.00000000000000, -3.3120668690268773]\n",
      "[-3.25963731050576, -3.5659782583963913]\n",
      "[-4.00000000000000, -4.307893076174552]\n",
      "[-4.25963731050576, -4.566979176667165]\n",
      "[-5.00000000000000, -5.305505308345797]\n",
      "[-5.25963731050576, -5.566237141079021]\n",
      "[-6.00000000000000, -6.307001234454326]\n",
      "[-6.25963731050576, -6.567989674553819]\n",
      "[-7.00000000000000, -7.308033308525773]\n"
     ]
    },
    {
     "data": {
      "text/plain": [
       "[b == -0.3419023371733969, m == 0.9936869934307895]"
      ]
     },
     "execution_count": 69,
     "metadata": {},
     "output_type": "execute_result"
    }
   ],
   "source": [
    "T=[(1e-2,4), (5.5e-3,12), (1e-3,87), (5.5e-4, 121), (1e-4,228), (5.5e-5,267), (1e-5,381), (5.5e-6, 422), (1e-6,540), (5.5e-7, 582),(1e-7,702)]\n",
    "line_of_best_fit_for_error(E[0][0], T)"
   ]
  },
  {
   "cell_type": "code",
   "execution_count": 70,
   "metadata": {},
   "outputs": [
    {
     "data": {
      "text/plain": [
       "0.9866678840995654"
      ]
     },
     "execution_count": 70,
     "metadata": {},
     "output_type": "execute_result"
    }
   ],
   "source": [
    "1-min_eigenval_assoc_matrix(E[0][0])"
   ]
  },
  {
   "cell_type": "code",
   "execution_count": 77,
   "metadata": {},
   "outputs": [
    {
     "data": {
      "text/plain": [
       "0.012206015078361759"
      ]
     },
     "execution_count": 77,
     "metadata": {},
     "output_type": "execute_result"
    }
   ],
   "source": [
    "solid_angle_3d(E[0][0])"
   ]
  },
  {
   "cell_type": "code",
   "execution_count": 78,
   "metadata": {},
   "outputs": [
    {
     "data": {
      "text/plain": [
       "0.013332115900434593"
      ]
     },
     "execution_count": 78,
     "metadata": {},
     "output_type": "execute_result"
    }
   ],
   "source": [
    "min_eigenval_assoc_matrix(E[0][0])"
   ]
  },
  {
   "cell_type": "code",
   "execution_count": null,
   "metadata": {},
   "outputs": [],
   "source": []
  },
  {
   "cell_type": "code",
   "execution_count": 71,
   "metadata": {},
   "outputs": [
    {
     "data": {
      "image/png": "[encoded data removed]",
      "text/plain": [
       "Graphics object consisting of 1 graphics primitive"
      ]
     },
     "execution_count": 71,
     "metadata": {},
     "output_type": "execute_result"
    }
   ],
   "source": [
    "#E[1][0] log scale\n",
    "T=[(1e-2,6), (5.5e-3,8), (1e-3,13), (5.5e-4, 15), (1e-4,20), (5.5e-5,22), (1e-5,27), (5.5e-6, 29), (1e-6,35), (5.5e-7, 37),(1e-7,42)]\n",
    "list_plot_semilogx(T, axes_labels=['$eps$', '$deg$'], color=\"green\") "
   ]
  },
  {
   "cell_type": "code",
   "execution_count": 72,
   "metadata": {},
   "outputs": [
    {
     "name": "stdout",
     "output_type": "stream",
     "text": [
      "[-2.00000000000000, log(6)/log(10)]\n",
      "[-2.25963731050576, 3*log(2)/log(10)]\n",
      "[-3.00000000000000, log(13)/log(10)]\n",
      "[-3.25963731050576, log(15)/log(10)]\n",
      "[-4.00000000000000, log(20)/log(10)]\n",
      "[-4.25963731050576, log(22)/log(10)]\n",
      "[-5.00000000000000, 3*log(3)/log(10)]\n",
      "[-5.25963731050576, log(29)/log(10)]\n",
      "[-6.00000000000000, log(35)/log(10)]\n",
      "[-6.25963731050576, log(37)/log(10)]\n",
      "[-7.00000000000000, log(42)/log(10)]\n"
     ]
    },
    {
     "data": {
      "text/plain": [
       "[b == 0.5892491512771872, m == -0.16071553065833483]"
      ]
     },
     "execution_count": 72,
     "metadata": {},
     "output_type": "execute_result"
    }
   ],
   "source": [
    "T=[(1e-2,6), (5.5e-3,8), (1e-3,13), (5.5e-4, 15), (1e-4,20), (5.5e-5,22), (1e-5,27), (5.5e-6, 29), (1e-6,35), (5.5e-7, 37),(1e-7,42)]\n",
    "line_of_best_fit_for_eps_deg_pairs(T)"
   ]
  },
  {
   "cell_type": "code",
   "execution_count": 73,
   "metadata": {},
   "outputs": [
    {
     "name": "stdout",
     "output_type": "stream",
     "text": [
      "Solid angle measure is: 0.26241405817413493\n",
      "6 (0.0100000000000000, 0.021393497064689487)\n",
      "8 (0.00550000000000000, 0.01094828693868427)\n",
      "13 (0.00100000000000000, 0.002149976503134421)\n",
      "15 (0.000550000000000000, 0.0011360915156287121)\n",
      "20 (0.000100000000000000, 0.00023570462933336644)\n",
      "22 (0.0000550000000000000, 0.00012648949542559684)\n",
      "27 (0.0000100000000000000, 2.7011751296102116e-05)\n",
      "29 (5.50000000000000e-6, 1.4623884661557618e-05)\n",
      "35 (1.00000000000000e-6, 2.344580557034348e-06)\n",
      "37 (5.50000000000000e-7, 1.2773260122944663e-06)\n",
      "42 (1.00000000000000e-7, 2.812275129993047e-07)\n"
     ]
    },
    {
     "data": {
      "image/png": "[encoded data removed]",
      "text/plain": [
       "Graphics object consisting of 1 graphics primitive"
      ]
     },
     "execution_count": 73,
     "metadata": {},
     "output_type": "execute_result"
    }
   ],
   "source": [
    "T=[(1e-2,6), (5.5e-3,8), (1e-3,13), (5.5e-4, 15), (1e-4,20), (5.5e-5,22), (1e-5,27), (5.5e-6, 29), (1e-6,35), (5.5e-7, 37),(1e-7,42)]\n",
    "plot_error_3d_wrt_criticaldeg_and_criticaleps(E[1][0], T, color=\"red\")"
   ]
  },
  {
   "cell_type": "code",
   "execution_count": 74,
   "metadata": {
    "scrolled": false
   },
   "outputs": [
    {
     "name": "stdout",
     "output_type": "stream",
     "text": [
      "Solid angle measure is: 0.26241405817413493\n",
      "[-2.00000000000000, -1.6697182181512467]\n",
      "[-2.25963731050576, -1.960653828885753]\n",
      "[-3.00000000000000, -2.6675662864168714]\n",
      "[-3.25963731050576, -2.9445866834738244]\n",
      "[-4.00000000000000, -3.6276318876742657]\n",
      "[-4.25963731050576, -3.897945539848845]\n",
      "[-5.00000000000000, -4.568447257590524]\n",
      "[-5.25963731050576, -4.834937246873277]\n",
      "[-6.00000000000000, -5.629934840820436]\n",
      "[-6.25963731050576, -5.893698243480086]\n",
      "[-7.00000000000000, -6.550942193754362]\n"
     ]
    },
    {
     "data": {
      "text/plain": [
       "[b == 0.26602795807097945, m == 0.9766902887365534]"
      ]
     },
     "execution_count": 74,
     "metadata": {},
     "output_type": "execute_result"
    }
   ],
   "source": [
    "T=[(1e-2,6), (5.5e-3,8), (1e-3,13), (5.5e-4, 15), (1e-4,20), (5.5e-5,22), (1e-5,27), (5.5e-6, 29), (1e-6,35), (5.5e-7, 37),(1e-7,42)]\n",
    "line_of_best_fit_for_error(E[1][0], T)"
   ]
  },
  {
   "cell_type": "code",
   "execution_count": 75,
   "metadata": {},
   "outputs": [
    {
     "data": {
      "text/plain": [
       "0.7473677532236447"
      ]
     },
     "execution_count": 75,
     "metadata": {},
     "output_type": "execute_result"
    }
   ],
   "source": [
    "1-min_eigenval_assoc_matrix(E[1][0])"
   ]
  },
  {
   "cell_type": "code",
   "execution_count": 76,
   "metadata": {},
   "outputs": [
    {
     "data": {
      "text/plain": [
       "0.26241405817413493"
      ]
     },
     "execution_count": 76,
     "metadata": {},
     "output_type": "execute_result"
    }
   ],
   "source": [
    "solid_angle_3d(E[1][0])"
   ]
  },
  {
   "cell_type": "code",
   "execution_count": null,
   "metadata": {},
   "outputs": [],
   "source": []
  },
  {
   "cell_type": "code",
   "execution_count": null,
   "metadata": {},
   "outputs": [],
   "source": []
  },
  {
   "cell_type": "code",
   "execution_count": 46,
   "metadata": {
    "scrolled": false
   },
   "outputs": [
    {
     "name": "stdout",
     "output_type": "stream",
     "text": [
      "[-1.00000000000000, 10]\n",
      "[-1.25963731050576, 17]\n",
      "[-2.00000000000000, 38]\n",
      "[-2.25963731050576, 46]\n",
      "[-3.00000000000000, 68]\n",
      "[-3.25963731050576, 76]\n",
      "[-4.00000000000000, 99]\n",
      "[-4.25963731050576, 107]\n",
      "[-5.00000000000000, 130]\n",
      "[-5.25963731050576, 138]\n",
      "[-6.00000000000000, 162]\n",
      "[-6.25963731050576, 170]\n",
      "[-7.00000000000000, 193]\n",
      "[-7.25963731050576, 202]\n",
      "[-8.00000000000000, 225]\n",
      "[-8.25963731050576, 234]\n",
      "[b == -23.758817817774236, m == -30.983139622985142]\n"
     ]
    },
    {
     "data": {
      "image/png": "[encoded data removed]",
      "text/plain": [
       "Graphics object consisting of 1 graphics primitive"
      ]
     },
     "execution_count": 46,
     "metadata": {},
     "output_type": "execute_result"
    }
   ],
   "source": [
    "#B\n",
    "L=[(1e-1,10), (5.5e-2, 17), (1e-2,38), (5.5e-3,46), (1e-3,68), (5.5e-4, 76), (1e-4,99), (5.5e-5,107), (1e-5,130), (5.5e-6, 138), (1e-6,162), (5.5e-7, 170),(1e-7,193), (5.5e-8, 202), (1e-8,225), (5.5e-9, 234)]\n",
    "line_of_best_fit_deg_delta(L, color=\"black\")"
   ]
  },
  {
   "cell_type": "code",
   "execution_count": 50,
   "metadata": {},
   "outputs": [
    {
     "data": {
      "text/plain": [
       "29.711689324879902"
      ]
     },
     "execution_count": 50,
     "metadata": {},
     "output_type": "execute_result"
    }
   ],
   "source": [
    "2/(min_eigenval_assoc_matrix(B))"
   ]
  },
  {
   "cell_type": "code",
   "execution_count": 88,
   "metadata": {},
   "outputs": [
    {
     "name": "stdout",
     "output_type": "stream",
     "text": [
      "[-3.00000000000000, 5]\n",
      "[-3.25963731050576, 6]\n",
      "[-4.00000000000000, 10]\n",
      "[-4.25963731050576, 11]\n",
      "[-5.00000000000000, 15]\n",
      "[-5.25963731050576, 16]\n",
      "[-6.00000000000000, 20]\n",
      "[-6.25963731050576, 21]\n",
      "[-7.00000000000000, 25]\n",
      "[-7.25963731050576, 26]\n",
      "[-8.00000000000000, 30]\n",
      "[-8.25963731050576, 32]\n",
      "[b == -10.44919625024484, m == -5.068108109833345]\n"
     ]
    },
    {
     "data": {
      "image/png": "[encoded data removed]",
      "text/plain": [
       "Graphics object consisting of 1 graphics primitive"
      ]
     },
     "execution_count": 88,
     "metadata": {},
     "output_type": "execute_result"
    }
   ],
   "source": [
    "#F\n",
    "L=[(1e-3,5), (5.5e-4, 6), (1e-4,10), (5.5e-5,11), (1e-5,15), (5.5e-6, 16), (1e-6,20), (5.5e-7, 21),(1e-7,25), (5.5e-8, 26), (1e-8,30), (5.5e-9, 32)]\n",
    "line_of_best_fit_deg_delta(L, color=\"black\")"
   ]
  },
  {
   "cell_type": "code",
   "execution_count": 64,
   "metadata": {},
   "outputs": [
    {
     "data": {
      "text/plain": [
       "7.69233979163893"
      ]
     },
     "execution_count": 64,
     "metadata": {},
     "output_type": "execute_result"
    }
   ],
   "source": [
    "2/(min_eigenval_assoc_matrix(F))"
   ]
  },
  {
   "cell_type": "code",
   "execution_count": 87,
   "metadata": {},
   "outputs": [
    {
     "name": "stdout",
     "output_type": "stream",
     "text": [
      "[-2.00000000000000, 8]\n",
      "[-2.25963731050576, 10]\n",
      "[-3.00000000000000, 17]\n",
      "[-3.25963731050576, 19]\n",
      "[-4.00000000000000, 27]\n",
      "[-4.25963731050576, 29]\n",
      "[-5.00000000000000, 37]\n",
      "[-5.25963731050576, 40]\n",
      "[-6.00000000000000, 47]\n",
      "[-6.25963731050576, 50]\n",
      "[-7.00000000000000, 58]\n",
      "[-7.25963731050576, 61]\n",
      "[-8.00000000000000, 69]\n",
      "[-8.25963731050576, 71]\n",
      "[b == -13.6844170181761, m == -10.228457344909893]\n"
     ]
    },
    {
     "data": {
      "image/png": "[encoded data removed]",
      "text/plain": [
       "Graphics object consisting of 1 graphics primitive"
      ]
     },
     "execution_count": 87,
     "metadata": {},
     "output_type": "execute_result"
    }
   ],
   "source": [
    "#X\n",
    "L=[(1e-2,8), (5.5e-3,10), (1e-3,17), (5.5e-4, 19), (1e-4,27), (5.5e-5,29), (1e-5,37), (5.5e-6, 40), (1e-6,47), (5.5e-7, 50),(1e-7,58), (5.5e-8, 61), (1e-8,69), (5.5e-9, 71)]\n",
    "line_of_best_fit_deg_delta(L, color=\"black\")"
   ]
  },
  {
   "cell_type": "code",
   "execution_count": 67,
   "metadata": {},
   "outputs": [
    {
     "data": {
      "text/plain": [
       "12.244400176893839"
      ]
     },
     "execution_count": 67,
     "metadata": {},
     "output_type": "execute_result"
    }
   ],
   "source": [
    "2/(min_eigenval_assoc_matrix(X))"
   ]
  },
  {
   "cell_type": "code",
   "execution_count": 86,
   "metadata": {},
   "outputs": [
    {
     "name": "stdout",
     "output_type": "stream",
     "text": [
      "[-2.25963731050576, 3]\n",
      "[-3.00000000000000, 12]\n",
      "[-3.25963731050576, 16]\n",
      "[-4.00000000000000, 27]\n",
      "[-4.25963731050576, 32]\n",
      "[-5.00000000000000, 44]\n",
      "[-5.25963731050576, 49]\n",
      "[-6.00000000000000, 62]\n",
      "[-6.25963731050576, 67]\n",
      "[-7.00000000000000, 80]\n",
      "[-7.25963731050576, 85]\n",
      "[-8.00000000000000, 99]\n",
      "[-8.25963731050576, 104]\n",
      "[b == -39.9051487602023, m == -17.170016121080945]\n"
     ]
    },
    {
     "data": {
      "image/png": "[encoded data removed]",
      "text/plain": [
       "Graphics object consisting of 1 graphics primitive"
      ]
     },
     "execution_count": 86,
     "metadata": {},
     "output_type": "execute_result"
    }
   ],
   "source": [
    "#A\n",
    "L=[(5.5e-3,3), (1e-3,12), (5.5e-4, 16), (1e-4,27), (5.5e-5,32), (1e-5,44), (5.5e-6, 49), (1e-6,62), (5.5e-7, 67),(1e-7,80), (5.5e-8, 85), (1e-8,99), (5.5e-9, 104)]\n",
    "line_of_best_fit_deg_delta(L, color=\"black\")"
   ]
  },
  {
   "cell_type": "code",
   "execution_count": 68,
   "metadata": {},
   "outputs": [
    {
     "data": {
      "text/plain": [
       "24.702269991939048"
      ]
     },
     "execution_count": 68,
     "metadata": {},
     "output_type": "execute_result"
    }
   ],
   "source": [
    "2/(min_eigenval_assoc_matrix(A))"
   ]
  },
  {
   "cell_type": "code",
   "execution_count": 69,
   "metadata": {},
   "outputs": [
    {
     "name": "stdout",
     "output_type": "stream",
     "text": [
      "[-2.00000000000000, 4]\n",
      "[-2.25963731050576, 8]\n",
      "[-3.00000000000000, 24]\n",
      "[-3.25963731050576, 30]\n",
      "[-4.00000000000000, 49]\n",
      "[-4.25963731050576, 56]\n",
      "[-5.00000000000000, 75]\n",
      "[-5.25963731050576, 82]\n",
      "[-6.00000000000000, 101]\n",
      "[-6.25963731050576, 108]\n",
      "[-7.00000000000000, 128]\n",
      "[-7.25963731050576, 135]\n",
      "[-8.00000000000000, 155]\n",
      "[-8.25963731050576, 162]\n",
      "[b == -51.82970705153183, m == -25.656934519989974]\n"
     ]
    },
    {
     "data": {
      "image/png": "[encoded data removed]",
      "text/plain": [
       "Graphics object consisting of 1 graphics primitive"
      ]
     },
     "execution_count": 69,
     "metadata": {},
     "output_type": "execute_result"
    }
   ],
   "source": [
    "#D\n",
    "L=[(1e-2,4), (5.5e-3,8), (1e-3,24), (5.5e-4, 30), (1e-4,49), (5.5e-5,56), (1e-5,75), (5.5e-6, 82), (1e-6,101), (5.5e-7, 108),(1e-7,128), (5.5e-8, 135), (1e-8,155), (5.5e-9, 162)]\n",
    "line_of_best_fit_deg_delta(L, color=\"black\")"
   ]
  },
  {
   "cell_type": "code",
   "execution_count": 70,
   "metadata": {},
   "outputs": [
    {
     "data": {
      "text/plain": [
       "25.59934851692051"
      ]
     },
     "execution_count": 70,
     "metadata": {},
     "output_type": "execute_result"
    }
   ],
   "source": [
    "2/(min_eigenval_assoc_matrix(D))"
   ]
  },
  {
   "cell_type": "code",
   "execution_count": 71,
   "metadata": {},
   "outputs": [
    {
     "name": "stdout",
     "output_type": "stream",
     "text": [
      "[-2.25963731050576, 2]\n",
      "[-3.00000000000000, 49]\n",
      "[-3.25963731050576, 81]\n",
      "[-4.00000000000000, 183]\n",
      "[-4.25963731050576, 221]\n",
      "[-5.00000000000000, 334]\n",
      "[-5.25963731050576, 374]\n",
      "[-6.00000000000000, 491]\n",
      "[-6.25963731050576, 533]\n",
      "[-7.00000000000000, 652]\n",
      "[-7.25963731050576, 695]\n",
      "[-8.00000000000000, 816]\n",
      "[-8.25963731050576, 858]\n",
      "[b == -395.76277008108946, m == -149.445652076489]\n"
     ]
    },
    {
     "data": {
      "image/png": "[encoded data removed]",
      "text/plain": [
       "Graphics object consisting of 1 graphics primitive"
      ]
     },
     "execution_count": 71,
     "metadata": {},
     "output_type": "execute_result"
    }
   ],
   "source": [
    "#E[0][0]\n",
    "L=[(5.5e-3,2), (1e-3,49), (5.5e-4, 81), (1e-4,183), (5.5e-5,221), (1e-5,334), (5.5e-6, 374), (1e-6,491), (5.5e-7, 533),(1e-7,652), (5.5e-8, 695), (1e-8,816), (5.5e-9, 858)]\n",
    "line_of_best_fit_deg_delta(L, color=\"black\")"
   ]
  },
  {
   "cell_type": "code",
   "execution_count": 72,
   "metadata": {},
   "outputs": [
    {
     "data": {
      "text/plain": [
       "150.01369737078306"
      ]
     },
     "execution_count": 72,
     "metadata": {},
     "output_type": "execute_result"
    }
   ],
   "source": [
    "2/(min_eigenval_assoc_matrix(E[0][0]))"
   ]
  },
  {
   "cell_type": "code",
   "execution_count": 73,
   "metadata": {},
   "outputs": [
    {
     "name": "stdout",
     "output_type": "stream",
     "text": [
      "[-1.00000000000000, 2]\n",
      "[-1.25963731050576, 4]\n",
      "[-2.00000000000000, 9]\n",
      "[-2.25963731050576, 11]\n",
      "[-3.00000000000000, 16]\n",
      "[-3.25963731050576, 18]\n",
      "[-4.00000000000000, 23]\n",
      "[-4.25963731050576, 25]\n",
      "[-5.00000000000000, 31]\n",
      "[-5.25963731050576, 33]\n",
      "[-6.00000000000000, 38]\n",
      "[-6.25963731050576, 40]\n",
      "[-7.00000000000000, 46]\n",
      "[-7.25963731050576, 48]\n",
      "[-8.00000000000000, 54]\n",
      "[-8.25963731050576, 56]\n",
      "[b == -5.967064346437986, m == -7.417583043157478]\n"
     ]
    },
    {
     "data": {
      "image/png": "[encoded data removed]",
      "text/plain": [
       "Graphics object consisting of 1 graphics primitive"
      ]
     },
     "execution_count": 73,
     "metadata": {},
     "output_type": "execute_result"
    }
   ],
   "source": [
    "#E[1][0]\n",
    "L=[(1e-1,2),(5.5e-2,4),(1e-2,9),(5.5e-3,11), (1e-3,16), (5.5e-4, 18), (1e-4,23), (5.5e-5,25), (1e-5,31), (5.5e-6, 33), (1e-6,38), (5.5e-7, 40),(1e-7,46), (5.5e-8, 48), (1e-8,54), (5.5e-9, 56)]\n",
    "line_of_best_fit_deg_delta(L, color=\"black\")"
   ]
  },
  {
   "cell_type": "code",
   "execution_count": 77,
   "metadata": {},
   "outputs": [
    {
     "data": {
      "text/plain": [
       "7.916645739094882"
      ]
     },
     "execution_count": 77,
     "metadata": {},
     "output_type": "execute_result"
    }
   ],
   "source": [
    "2/(min_eigenval_assoc_matrix(E[1][0]))"
   ]
  },
  {
   "cell_type": "code",
   "execution_count": 78,
   "metadata": {},
   "outputs": [
    {
     "name": "stdout",
     "output_type": "stream",
     "text": [
      "[-2.25963731050576, 4]\n",
      "[-3.00000000000000, 56]\n",
      "[-3.25963731050576, 84]\n",
      "[-4.00000000000000, 179]\n",
      "[-4.25963731050576, 215]\n",
      "[-5.00000000000000, 322]\n",
      "[-5.25963731050576, 360]\n",
      "[-6.00000000000000, 471]\n",
      "[-6.25963731050576, 511]\n",
      "[-7.00000000000000, 625]\n",
      "[-7.25963731050576, 665]\n",
      "[-8.00000000000000, 780]\n",
      "[-8.25963731050576, 821]\n",
      "[b == -370.2406606450104, m == -141.88611877855433]\n"
     ]
    },
    {
     "data": {
      "image/png": "[encoded data removed]",
      "text/plain": [
       "Graphics object consisting of 1 graphics primitive"
      ]
     },
     "execution_count": 78,
     "metadata": {},
     "output_type": "execute_result"
    }
   ],
   "source": [
    "#C[0][0]\n",
    "L=[(5.5e-3,4), (1e-3,56), (5.5e-4, 84), (1e-4,179), (5.5e-5,215), (1e-5,322), (5.5e-6, 360), (1e-6,471), (5.5e-7, 511),(1e-7,625), (5.5e-8, 665), (1e-8,780), (5.5e-9, 821)]\n",
    "line_of_best_fit_deg_delta(L, color=\"black\")"
   ]
  },
  {
   "cell_type": "code",
   "execution_count": 79,
   "metadata": {},
   "outputs": [
    {
     "data": {
      "text/plain": [
       "142.99295739719554"
      ]
     },
     "execution_count": 79,
     "metadata": {},
     "output_type": "execute_result"
    }
   ],
   "source": [
    "2/(min_eigenval_assoc_matrix(C[0][0]))"
   ]
  },
  {
   "cell_type": "code",
   "execution_count": 80,
   "metadata": {},
   "outputs": [
    {
     "name": "stdout",
     "output_type": "stream",
     "text": [
      "[-1.00000000000000, 8]\n",
      "[-1.25963731050576, 13]\n",
      "[-2.00000000000000, 29]\n",
      "[-2.25963731050576, 35]\n",
      "[-3.00000000000000, 52]\n",
      "[-3.25963731050576, 58]\n",
      "[-4.00000000000000, 75]\n",
      "[-4.25963731050576, 82]\n",
      "[-5.00000000000000, 99]\n",
      "[-5.25963731050576, 106]\n",
      "[-6.00000000000000, 123]\n",
      "[-6.25963731050576, 130]\n",
      "[-7.00000000000000, 148]\n",
      "[-7.25963731050576, 154]\n",
      "[-8.00000000000000, 172]\n",
      "[-8.25963731050576, 179]\n",
      "[b == -18.175482828098417, m == -23.67543763376871]\n"
     ]
    },
    {
     "data": {
      "image/png": "[encoded data removed]",
      "text/plain": [
       "Graphics object consisting of 1 graphics primitive"
      ]
     },
     "execution_count": 80,
     "metadata": {},
     "output_type": "execute_result"
    }
   ],
   "source": [
    "#C[1][0]\n",
    "L=[(1e-1, 8), (5.5e-2, 13), (1e-2,29), (5.5e-3,35), (1e-3,52), (5.5e-4, 58), (1e-4,75), (5.5e-5,82), (1e-5,99), (5.5e-6, 106), (1e-6,123), (5.5e-7, 130),(1e-7,148), (5.5e-8, 154), (1e-8,172), (5.5e-9, 179)]\n",
    "line_of_best_fit_deg_delta(L, color=\"black\")"
   ]
  },
  {
   "cell_type": "code",
   "execution_count": 81,
   "metadata": {},
   "outputs": [
    {
     "data": {
      "text/plain": [
       "22.954451150103335"
      ]
     },
     "execution_count": 81,
     "metadata": {},
     "output_type": "execute_result"
    }
   ],
   "source": [
    "2/(min_eigenval_assoc_matrix(C[1][0]))"
   ]
  },
  {
   "cell_type": "code",
   "execution_count": 82,
   "metadata": {
    "scrolled": true
   },
   "outputs": [
    {
     "name": "stdout",
     "output_type": "stream",
     "text": [
      "[-1.00000000000000, 4]\n",
      "[-1.25963731050576, 12]\n",
      "[-2.00000000000000, 42]\n",
      "[-2.25963731050576, 54]\n",
      "[-3.00000000000000, 91]\n",
      "[-3.25963731050576, 104]\n",
      "[-4.00000000000000, 143]\n",
      "[-4.25963731050576, 157]\n",
      "[-5.00000000000000, 197]\n",
      "[-5.25963731050576, 211]\n",
      "[-6.00000000000000, 252]\n",
      "[-6.25963731050576, 266]\n",
      "[-7.00000000000000, 308]\n",
      "[-7.25963731050576, 322]\n",
      "[-8.00000000000000, 364]\n",
      "[-8.25963731050576, 379]\n",
      "[b == -61.84400193111578, m == -52.58715731384037]\n"
     ]
    },
    {
     "data": {
      "image/png": "[encoded data removed]",
      "text/plain": [
       "Graphics object consisting of 1 graphics primitive"
      ]
     },
     "execution_count": 82,
     "metadata": {},
     "output_type": "execute_result"
    }
   ],
   "source": [
    "#Z[0][0]\n",
    "L=[(1e-1, 4), (5.5e-2, 12), (1e-2,42), (5.5e-3,54), (1e-3,91), (5.5e-4, 104), (1e-4,143), (5.5e-5,157), (1e-5,197), (5.5e-6, 211), (1e-6,252), (5.5e-7, 266),(1e-7,308), (5.5e-8, 322), (1e-8,364), (5.5e-9, 379)]\n",
    "line_of_best_fit_deg_delta(L, color=\"black\")"
   ]
  },
  {
   "cell_type": "code",
   "execution_count": 85,
   "metadata": {},
   "outputs": [
    {
     "data": {
      "text/plain": [
       "59.462895133782794"
      ]
     },
     "execution_count": 85,
     "metadata": {},
     "output_type": "execute_result"
    }
   ],
   "source": [
    "2/(min_eigenval_assoc_matrix(Z[0][0]))"
   ]
  },
  {
   "cell_type": "code",
   "execution_count": 83,
   "metadata": {},
   "outputs": [
    {
     "name": "stdout",
     "output_type": "stream",
     "text": [
      "[-1.00000000000000, 23]\n",
      "[-1.25963731050576, 37]\n",
      "[-2.00000000000000, 82]\n",
      "[-2.25963731050576, 98]\n",
      "[-3.00000000000000, 145]\n",
      "[-3.25963731050576, 162]\n",
      "[-4.00000000000000, 210]\n",
      "[-4.25963731050576, 228]\n",
      "[-5.00000000000000, 277]\n",
      "[-5.25963731050576, 294]\n",
      "[-6.00000000000000, 344]\n",
      "[-6.25963731050576, 361]\n",
      "[-7.00000000000000, 412]\n",
      "[-7.25963731050576, 429]\n",
      "[-8.00000000000000, 480]\n",
      "[-8.25963731050576, 497]\n",
      "[b == -49.58497100064433, m == -65.77416821129623]\n"
     ]
    },
    {
     "data": {
      "image/png": "[encoded data removed]",
      "text/plain": [
       "Graphics object consisting of 1 graphics primitive"
      ]
     },
     "execution_count": 83,
     "metadata": {},
     "output_type": "execute_result"
    }
   ],
   "source": [
    "#Z[1][0]\n",
    "L=[(1e-1, 23), (5.5e-2, 37), (1e-2,82), (5.5e-3,98), (1e-3,145), (5.5e-4, 162), (1e-4,210), (5.5e-5,228), (1e-5,277), (5.5e-6, 294), (1e-6,344), (5.5e-7, 361),(1e-7,412), (5.5e-8, 429), (1e-8,480), (5.5e-9, 497)]\n",
    "line_of_best_fit_deg_delta(L, color=\"black\")"
   ]
  },
  {
   "cell_type": "code",
   "execution_count": 84,
   "metadata": {},
   "outputs": [
    {
     "data": {
      "text/plain": [
       "61.98360214935177"
      ]
     },
     "execution_count": 84,
     "metadata": {},
     "output_type": "execute_result"
    }
   ],
   "source": [
    "2/(min_eigenval_assoc_matrix(Z[1][0]))"
   ]
  },
  {
   "cell_type": "code",
   "execution_count": null,
   "metadata": {},
   "outputs": [],
   "source": []
  },
  {
   "cell_type": "code",
   "execution_count": 27,
   "metadata": {},
   "outputs": [],
   "source": [
    "def trunc_deg(A, delta=1e-6):\n",
    "    lambda_min=min_eigenval_assoc_matrix(A)\n",
    "    a=(2*log(delta, 10))/lambda_min\n",
    "    b=(2*log(delta, 10))/lambda_min\n",
    "    D = ceil((2*log(delta, 10))/lambda_min)\n",
    "    return D"
   ]
  },
  {
   "cell_type": "code",
   "execution_count": 30,
   "metadata": {},
   "outputs": [
    {
     "data": {
      "text/plain": [
       "-55"
      ]
     },
     "execution_count": 30,
     "metadata": {},
     "output_type": "execute_result"
    }
   ],
   "source": [
    "trunc_deg(E[1][0], delta=1e-7)"
   ]
  },
  {
   "cell_type": "code",
   "execution_count": 31,
   "metadata": {},
   "outputs": [
    {
     "data": {
      "text/plain": [
       "-47"
      ]
     },
     "execution_count": 31,
     "metadata": {},
     "output_type": "execute_result"
    }
   ],
   "source": [
    "trunc_deg(E[1][0], delta=1e-6)"
   ]
  },
  {
   "cell_type": "code",
   "execution_count": 32,
   "metadata": {},
   "outputs": [
    {
     "data": {
      "text/plain": [
       "-900"
      ]
     },
     "execution_count": 32,
     "metadata": {},
     "output_type": "execute_result"
    }
   ],
   "source": [
    "trunc_deg(E[0][0], delta=1e-6)"
   ]
  },
  {
   "cell_type": "code",
   "execution_count": 33,
   "metadata": {},
   "outputs": [
    {
     "data": {
      "text/plain": [
       "-600"
      ]
     },
     "execution_count": 33,
     "metadata": {},
     "output_type": "execute_result"
    }
   ],
   "source": [
    "trunc_deg(E[0][0], delta=1e-4)"
   ]
  },
  {
   "cell_type": "code",
   "execution_count": 34,
   "metadata": {},
   "outputs": [
    {
     "data": {
      "text/plain": [
       "-150"
      ]
     },
     "execution_count": 34,
     "metadata": {},
     "output_type": "execute_result"
    }
   ],
   "source": [
    "trunc_deg(E[0][0], delta=1e-1)"
   ]
  },
  {
   "cell_type": "code",
   "execution_count": null,
   "metadata": {},
   "outputs": [],
   "source": []
  }
 ],
 "metadata": {
  "kernelspec": {
   "display_name": "SageMath 9.3.beta6",
   "language": "sage",
   "name": "sagemath"
  },
  "language_info": {
   "codemirror_mode": {
    "name": "ipython",
    "version": 3
   },
   "file_extension": ".py",
   "mimetype": "text/x-python",
   "name": "python",
   "nbconvert_exporter": "python",
   "pygments_lexer": "ipython3",
   "version": "3.9.1"
  }
 },
 "nbformat": 4,
 "nbformat_minor": 4
}
